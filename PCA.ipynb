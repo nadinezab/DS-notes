{
 "cells": [
  {
   "cell_type": "markdown",
   "metadata": {},
   "source": [
    "# PCA"
   ]
  },
  {
   "cell_type": "markdown",
   "metadata": {},
   "source": [
    "https://towardsdatascience.com/the-mathematics-behind-principal-component-analysis-fff2d7f4b643"
   ]
  },
  {
   "attachments": {
    "image.png": {
     "image/png": "[encoded data removed]"
    }
   },
   "cell_type": "markdown",
   "metadata": {},
   "source": [
    "![image.png](attachment:image.png)"
   ]
  },
  {
   "cell_type": "markdown",
   "metadata": {},
   "source": [
    "## By hand"
   ]
  },
  {
   "cell_type": "code",
   "execution_count": 39,
   "metadata": {},
   "outputs": [],
   "source": [
    "import numpy as np"
   ]
  },
  {
   "cell_type": "code",
   "execution_count": 117,
   "metadata": {
    "scrolled": false
   },
   "outputs": [
    {
     "data": {
      "text/plain": [
       "array([[90, 60, 90],\n",
       "       [90, 90, 30],\n",
       "       [60, 60, 60],\n",
       "       [60, 60, 90],\n",
       "       [30, 30, 30]])"
      ]
     },
     "execution_count": 117,
     "metadata": {},
     "output_type": "execute_result"
    }
   ],
   "source": [
    "A = np.array([[90,60,90], \n",
    "              [90,90,30],\n",
    "              [60,60,60],\n",
    "              [60,60,90],\n",
    "              [30,30,30]])\n",
    "\n",
    "A"
   ]
  },
  {
   "cell_type": "markdown",
   "metadata": {},
   "source": [
    "Let us get the mean of the matrix, as we need to center the data."
   ]
  },
  {
   "cell_type": "code",
   "execution_count": 118,
   "metadata": {
    "scrolled": true
   },
   "outputs": [
    {
     "data": {
      "text/plain": [
       "array([66., 60., 60.])"
      ]
     },
     "execution_count": 118,
     "metadata": {},
     "output_type": "execute_result"
    }
   ],
   "source": [
    "mean = A.mean(0)\n",
    "mean"
   ]
  },
  {
   "cell_type": "code",
   "execution_count": 119,
   "metadata": {
    "scrolled": true
   },
   "outputs": [
    {
     "data": {
      "text/plain": [
       "array([[ 24.,   0.,  30.],\n",
       "       [ 24.,  30., -30.],\n",
       "       [ -6.,   0.,   0.],\n",
       "       [ -6.,   0.,  30.],\n",
       "       [-36., -30., -30.]])"
      ]
     },
     "execution_count": 119,
     "metadata": {},
     "output_type": "execute_result"
    }
   ],
   "source": [
    "A_centered = A - mean\n",
    "A_centered"
   ]
  },
  {
   "cell_type": "markdown",
   "metadata": {},
   "source": [
    "Now we compute the covariance matrix.\n",
    "\n",
    "The formula for the covariance of two variables $X$ and $Y$ is:\n",
    "\n",
    "$$cov(X,Y) = \\frac{\\sum_i^n(X_i -\\mu_X)(Y_i - \\mu_Y)}{n-1}$$"
   ]
  },
  {
   "cell_type": "code",
   "execution_count": 162,
   "metadata": {
    "scrolled": true
   },
   "outputs": [
    {
     "data": {
      "text/plain": [
       "450.0"
      ]
     },
     "execution_count": 162,
     "metadata": {},
     "output_type": "execute_result"
    }
   ],
   "source": [
    "# Calculate X = math, y = english\n",
    "# Centered so mean is 0\n",
    "# Cov(math, english)\n",
    "# n = 5\n",
    "((24*30)+((-36)*(-30)))/4"
   ]
  },
  {
   "cell_type": "code",
   "execution_count": 120,
   "metadata": {
    "scrolled": true
   },
   "outputs": [
    {
     "data": {
      "text/plain": [
       "array([[630., 450., 225.],\n",
       "       [450., 450.,   0.],\n",
       "       [225.,   0., 900.]])"
      ]
     },
     "execution_count": 120,
     "metadata": {},
     "output_type": "execute_result"
    }
   ],
   "source": [
    "# Compute covariance matrix\n",
    "B = np.cov(A_centered.T)\n",
    "B"
   ]
  },
  {
   "cell_type": "code",
   "execution_count": 123,
   "metadata": {},
   "outputs": [
    {
     "name": "stdout",
     "output_type": "stream",
     "text": [
      "[630. 450. 900.]\n"
     ]
    }
   ],
   "source": [
    "# Check variances along diagonal\n",
    "print(np.var(A_centered.T, axis=1, ddof=1))"
   ]
  },
  {
   "cell_type": "markdown",
   "metadata": {},
   "source": [
    "We now compute eigenvalues and eigenvectors.\n",
    "\n",
    "Let $A$ be a square matrix, $v$ a vector and $\\lambda $ a scalar that satisfies $Av = \\lambda v$, then $\\lambda$ is called eigenvalue associated with eigenvector $v$ of $A$.\n",
    "The eigenvalues of $A$ are roots of the characteristic equation\n",
    "$$ |A - \\lambda I | = 0 $$\n",
    "\n",
    "We need to solve"
   ]
  },
  {
   "cell_type": "markdown",
   "metadata": {},
   "source": [
    "$$ \\left| \\left[{\\begin{array}{cc}\n",
    "   630 & 450 & 225 \\\\\n",
    "   450 & 450 & 0 \\\\\n",
    "   225 & 0 & 900 \\\\\n",
    "  \\end{array}} \\right] -\n",
    "  \\lambda \n",
    "  \\left[{\\begin{array}{cc}\n",
    "   1 & 0 & 0 \\\\\n",
    "   0 & 1 & 0 \\\\\n",
    "   0 & 0 & 1 \\\\\n",
    "  \\end{array}} \\right] \\right| = 0\n",
    " $$\n",
    " \n",
    " $$ \\left| \\left[{\\begin{array}{cc}\n",
    "   630 - \\lambda & 450 & 225 \\\\\n",
    "   450 & 450-\\lambda & 0 \\\\\n",
    "   225 & 0 & 900-\\lambda \\\\\n",
    "  \\end{array}} \\right] \\right| = 0\n",
    " $$"
   ]
  },
  {
   "cell_type": "markdown",
   "metadata": {},
   "source": [
    "$ (630 - \\lambda) * (450 -\\lambda)*(900 - \\lambda) -\n",
    "  450 * (450 * (900 - \\lambda)) +\n",
    "  225 * (-225 * (450 - \\lambda)) = 0$"
   ]
  },
  {
   "cell_type": "markdown",
   "metadata": {},
   "source": [
    "$ (283500 - 630 \\lambda - 450 \\lambda + \\lambda^2)*(900 - \\lambda) - 450 * (405000 - 450 \\lambda) \n",
    "+ 225 * (-101250 + 225 \\lambda) = 0$"
   ]
  },
  {
   "cell_type": "markdown",
   "metadata": {},
   "source": [
    "$ (283500 -1080 \\lambda + \\lambda^2)*(900 - \\lambda) - 450 * (405000 - 450 \\lambda) \n",
    "+ 225 * (-101250 + 225 \\lambda) = 0$"
   ]
  },
  {
   "cell_type": "markdown",
   "metadata": {},
   "source": [
    "$ 255150000 - 283500 \\lambda - 972000 \\lambda + 1080 \\lambda^2 + 900 \\lambda^2 - \\lambda^3\n",
    "- 182250000 + 202500 \\lambda - 22781250 + 50625 \\lambda = 0 $"
   ]
  },
  {
   "cell_type": "markdown",
   "metadata": {},
   "source": [
    "$ - \\lambda^3 + 1980 \\lambda^2 - 1002375 \\lambda + 50118750 = 0 $"
   ]
  },
  {
   "cell_type": "markdown",
   "metadata": {},
   "source": [
    "Solving gives us three values for $\\lambda$,\n",
    "\n",
    "$ \\lambda_1 = 56.025$\n",
    "\n",
    "$ \\lambda_2 = 786.39$\n",
    "\n",
    "$ \\lambda_3 = 1137.587$"
   ]
  },
  {
   "cell_type": "markdown",
   "metadata": {},
   "source": [
    "Now we compute the corresponding eigenvectors, by solving\n",
    "$$ (A - \\lambda I) . v = 0 $$\n",
    "\n",
    "For $ \\lambda_1 = 56.025$\n",
    "$$ \\left( \\left[{\\begin{array}{cc}\n",
    "   630 & 450 & 225 \\\\\n",
    "   450 & 450 & 0 \\\\\n",
    "   225 & 0 & 900 \\\\\n",
    "  \\end{array}} \\right] -\n",
    "  \\left[{\\begin{array}{cc}\n",
    "   \\lambda_1 & 0 & 0 \\\\\n",
    "   0 & \\lambda_1 & 0 \\\\\n",
    "   0 & 0 & \\lambda_1 \\\\\n",
    "  \\end{array}} \\right] \\right) \\cdot\n",
    "  \\left[{\\begin{array}{cc}\n",
    "   v_1  \\\\\n",
    "   v_2  \\\\\n",
    "   v_3 \\\\\n",
    "  \\end{array}} \\right] = 0\n",
    " $$\n",
    " \n",
    "$$ \\left( \\left[{\\begin{array}{cc}\n",
    "   630 & 450 & 225 \\\\\n",
    "   450 & 450 & 0 \\\\\n",
    "   225 & 0 & 900 \\\\\n",
    "  \\end{array}} \\right] -\n",
    "  \\left[{\\begin{array}{cc}\n",
    "   56.025 & 0 & 0 \\\\\n",
    "   0 & 56.025 & 0 \\\\\n",
    "   0 & 0 & 56.025 \\\\\n",
    "  \\end{array}} \\right] \\right) \\cdot\n",
    "  \\left[{\\begin{array}{cc}\n",
    "   v_1  \\\\\n",
    "   v_2  \\\\\n",
    "   v_3 \\\\\n",
    "  \\end{array}} \\right] = 0\n",
    "$$\n",
    " \n",
    "$$  \\left[{\\begin{array}{cc}\n",
    "   573.975 & 450 & 225 \\\\\n",
    "   450 & 393.975 & 0 \\\\\n",
    "   225 & 0 & 843.975 \\\\\n",
    "  \\end{array}} \\right] \\cdot\n",
    "  \\left[{\\begin{array}{cc}\n",
    "   v_1  \\\\\n",
    "   v_2  \\\\\n",
    "   v_3 \\\\\n",
    "  \\end{array}} \\right] = 0\n",
    "$$"
   ]
  },
  {
   "cell_type": "markdown",
   "metadata": {},
   "source": [
    "We have a set of simultaneous equations to solve: \n",
    "\n",
    "$ 573.975 v_1 + 450 v_2 + 225 v_3 = 0 $\n",
    "\n",
    "$ 450 v_1 + 393.975 v_2 = 0 $\n",
    "\n",
    "$ 225 v_1 + 843.975 v_3 = 0 $\n",
    "\n",
    "We also want the eigenvalues to have norm 1, so we have\n",
    "\n",
    "$ \\sqrt{(v_1^2 + v_2^2 + v_3^2)} = 1 $"
   ]
  },
  {
   "cell_type": "markdown",
   "metadata": {},
   "source": [
    "## Using Numpy eig"
   ]
  },
  {
   "cell_type": "code",
   "execution_count": 168,
   "metadata": {
    "scrolled": true
   },
   "outputs": [
    {
     "data": {
      "text/plain": [
       "array([[90, 60, 90],\n",
       "       [90, 90, 30],\n",
       "       [60, 60, 60],\n",
       "       [60, 60, 90],\n",
       "       [30, 30, 30]])"
      ]
     },
     "execution_count": 168,
     "metadata": {},
     "output_type": "execute_result"
    }
   ],
   "source": [
    "A = np.array([[90,60,90], \n",
    "              [90,90,30],\n",
    "              [60,60,60],\n",
    "              [60,60,90],\n",
    "              [30,30,30]])\n",
    "A"
   ]
  },
  {
   "cell_type": "code",
   "execution_count": 169,
   "metadata": {},
   "outputs": [
    {
     "data": {
      "text/plain": [
       "array([[ 24.,   0.,  30.],\n",
       "       [ 24.,  30., -30.],\n",
       "       [ -6.,   0.,   0.],\n",
       "       [ -6.,   0.,  30.],\n",
       "       [-36., -30., -30.]])"
      ]
     },
     "execution_count": 169,
     "metadata": {},
     "output_type": "execute_result"
    }
   ],
   "source": [
    "# Normalize\n",
    "A_centered = A - A.mean(0)\n",
    "A_centered"
   ]
  },
  {
   "cell_type": "code",
   "execution_count": 170,
   "metadata": {
    "scrolled": true
   },
   "outputs": [
    {
     "data": {
      "text/plain": [
       "array([[630., 450., 225.],\n",
       "       [450., 450.,   0.],\n",
       "       [225.,   0., 900.]])"
      ]
     },
     "execution_count": 170,
     "metadata": {},
     "output_type": "execute_result"
    }
   ],
   "source": [
    "# Covariance Matrix\n",
    "cov_mat = np.cov(A_centered.T)\n",
    "cov_mat"
   ]
  },
  {
   "cell_type": "code",
   "execution_count": 171,
   "metadata": {},
   "outputs": [],
   "source": [
    "# Get eigenvalues/eigenvectors\n",
    "eig_values, eig_vectors = np.linalg.eig(cov_mat)"
   ]
  },
  {
   "cell_type": "code",
   "execution_count": 172,
   "metadata": {},
   "outputs": [
    {
     "data": {
      "text/plain": [
       "array([  56.02457535, 1137.5874413 ,  786.38798335])"
      ]
     },
     "execution_count": 172,
     "metadata": {},
     "output_type": "execute_result"
    }
   ],
   "source": [
    "eig_values"
   ]
  },
  {
   "cell_type": "code",
   "execution_count": 173,
   "metadata": {
    "scrolled": true
   },
   "outputs": [
    {
     "data": {
      "text/plain": [
       "array([[ 0.6487899 , -0.65580225, -0.3859988 ],\n",
       "       [-0.74104991, -0.4291978 , -0.51636642],\n",
       "       [-0.17296443, -0.62105769,  0.7644414 ]])"
      ]
     },
     "execution_count": 173,
     "metadata": {},
     "output_type": "execute_result"
    }
   ],
   "source": [
    "eig_vectors"
   ]
  },
  {
   "cell_type": "code",
   "execution_count": 174,
   "metadata": {},
   "outputs": [
    {
     "data": {
      "text/plain": [
       "array([ 36.34817855, -41.51700671,  -9.69025867])"
      ]
     },
     "execution_count": 174,
     "metadata": {},
     "output_type": "execute_result"
    }
   ],
   "source": [
    "# test\n",
    "\n",
    "# Av \n",
    "cov_mat.dot(eig_vectors[:,0])"
   ]
  },
  {
   "cell_type": "code",
   "execution_count": 175,
   "metadata": {},
   "outputs": [
    {
     "data": {
      "text/plain": [
       "array([ 36.34817855, -41.51700671,  -9.69025867])"
      ]
     },
     "execution_count": 175,
     "metadata": {},
     "output_type": "execute_result"
    }
   ],
   "source": [
    "#lambda v\n",
    "eig_vectors[:, 0] * eig_values[0]"
   ]
  },
  {
   "cell_type": "code",
   "execution_count": 176,
   "metadata": {
    "scrolled": true
   },
   "outputs": [
    {
     "data": {
      "text/plain": [
       "array([[-0.65580225, -0.3859988 ,  0.6487899 ],\n",
       "       [-0.4291978 , -0.51636642, -0.74104991],\n",
       "       [-0.62105769,  0.7644414 , -0.17296443]])"
      ]
     },
     "execution_count": 176,
     "metadata": {},
     "output_type": "execute_result"
    }
   ],
   "source": [
    "# Sort eigenvalues\n",
    "\n",
    "# Get the index values of the sorted eigenvalues\n",
    "e_indices = np.argsort(eig_values)[::-1]\n",
    "\n",
    "# Sort \n",
    "eigenvectors_sorted = eig_vectors[:, e_indices]\n",
    "eigenvectors_sorted"
   ]
  },
  {
   "cell_type": "code",
   "execution_count": 180,
   "metadata": {},
   "outputs": [
    {
     "data": {
      "text/plain": [
       "array([[-0.65580225, -0.3859988 ],\n",
       "       [-0.4291978 , -0.51636642],\n",
       "       [-0.62105769,  0.7644414 ]])"
      ]
     },
     "execution_count": 180,
     "metadata": {},
     "output_type": "execute_result"
    }
   ],
   "source": [
    "# Reproject\n",
    "eigenvectors_sorted[:,0:2]"
   ]
  },
  {
   "cell_type": "markdown",
   "metadata": {},
   "source": [
    "## Using Numpy SVD"
   ]
  },
  {
   "cell_type": "code",
   "execution_count": null,
   "metadata": {},
   "outputs": [],
   "source": [
    "A = np.array([[90,60,90], \n",
    "              [90,90,30],\n",
    "              [60,60,60],\n",
    "              [60,60,90],\n",
    "              [30,30,30]])\n",
    "\n",
    "A"
   ]
  },
  {
   "cell_type": "code",
   "execution_count": 20,
   "metadata": {},
   "outputs": [
    {
     "data": {
      "text/plain": [
       "array([[ 24.,   0.,  30.],\n",
       "       [ 24.,  30., -30.],\n",
       "       [ -6.,   0.,   0.],\n",
       "       [ -6.,   0.,  30.],\n",
       "       [-36., -30., -30.]])"
      ]
     },
     "execution_count": 20,
     "metadata": {},
     "output_type": "execute_result"
    }
   ],
   "source": [
    "A_centered = A - A.mean(axis = 0)\n",
    "A_centered"
   ]
  },
  {
   "cell_type": "code",
   "execution_count": 21,
   "metadata": {},
   "outputs": [
    {
     "data": {
      "text/plain": [
       "array([[-0.5095298 , -0.24372323,  0.69352605,  0.06935477,  0.44180303],\n",
       "       [-0.14799893,  0.85028115, -0.09830431,  0.2799761 ,  0.40873944],\n",
       "       [ 0.05833131, -0.04129417, -0.26003754, -0.77313055,  0.57405739],\n",
       "       [-0.21787322, -0.45019409, -0.60666165,  0.49059743,  0.37567585],\n",
       "       [ 0.81707063, -0.11506966,  0.27147745,  0.2799761 ,  0.40873944]])"
      ]
     },
     "execution_count": 21,
     "metadata": {},
     "output_type": "execute_result"
    }
   ],
   "source": [
    "U, s, Vt = np.linalg.svd(A_centered)\n",
    "U"
   ]
  },
  {
   "cell_type": "code",
   "execution_count": 22,
   "metadata": {},
   "outputs": [
    {
     "data": {
      "text/plain": [
       "array([67.4562804 , 56.08522028, 14.96991321])"
      ]
     },
     "execution_count": 22,
     "metadata": {},
     "output_type": "execute_result"
    }
   ],
   "source": [
    "s"
   ]
  },
  {
   "cell_type": "code",
   "execution_count": 23,
   "metadata": {
    "scrolled": true
   },
   "outputs": [
    {
     "data": {
      "text/plain": [
       "array([[-0.65580225, -0.4291978 , -0.62105769],\n",
       "       [ 0.3859988 ,  0.51636642, -0.7644414 ],\n",
       "       [ 0.6487899 , -0.74104991, -0.17296443]])"
      ]
     },
     "execution_count": 23,
     "metadata": {},
     "output_type": "execute_result"
    }
   ],
   "source": [
    "Vt"
   ]
  },
  {
   "cell_type": "code",
   "execution_count": 110,
   "metadata": {},
   "outputs": [
    {
     "data": {
      "text/plain": [
       "array([-0.65580225, -0.4291978 , -0.62105769])"
      ]
     },
     "execution_count": 110,
     "metadata": {},
     "output_type": "execute_result"
    }
   ],
   "source": [
    "c1 = Vt.T[:,0]\n",
    "c1"
   ]
  },
  {
   "cell_type": "code",
   "execution_count": 111,
   "metadata": {},
   "outputs": [
    {
     "data": {
      "text/plain": [
       "array([ 0.3859988 ,  0.51636642, -0.7644414 ])"
      ]
     },
     "execution_count": 111,
     "metadata": {},
     "output_type": "execute_result"
    }
   ],
   "source": [
    "c2 = Vt.T[:,1]\n",
    "c2"
   ]
  },
  {
   "cell_type": "code",
   "execution_count": 143,
   "metadata": {
    "scrolled": true
   },
   "outputs": [
    {
     "data": {
      "text/plain": [
       "array([[-0.65580225,  0.3859988 ],\n",
       "       [-0.4291978 ,  0.51636642],\n",
       "       [-0.62105769, -0.7644414 ]])"
      ]
     },
     "execution_count": 143,
     "metadata": {},
     "output_type": "execute_result"
    }
   ],
   "source": [
    "W2 = Vt.T[:,:2]\n",
    "W2"
   ]
  },
  {
   "cell_type": "code",
   "execution_count": 144,
   "metadata": {},
   "outputs": [
    {
     "data": {
      "text/plain": [
       "array([[-34.37098481, -13.66927088],\n",
       "       [ -9.98345733,  47.68820559],\n",
       "       [  3.93481353,  -2.31599277],\n",
       "       [-14.69691716, -25.24923474],\n",
       "       [ 55.11654576,  -6.45370719]])"
      ]
     },
     "execution_count": 144,
     "metadata": {},
     "output_type": "execute_result"
    }
   ],
   "source": [
    "A_proj = A_centered.dot(W2)\n",
    "A_proj"
   ]
  },
  {
   "cell_type": "markdown",
   "metadata": {},
   "source": [
    "## Using sklearn PCA"
   ]
  },
  {
   "cell_type": "code",
   "execution_count": 112,
   "metadata": {},
   "outputs": [],
   "source": [
    "from sklearn.decomposition import PCA"
   ]
  },
  {
   "cell_type": "code",
   "execution_count": 113,
   "metadata": {},
   "outputs": [
    {
     "data": {
      "text/plain": [
       "array([[90, 60, 90],\n",
       "       [90, 90, 30],\n",
       "       [60, 60, 60],\n",
       "       [60, 60, 90],\n",
       "       [30, 30, 30]])"
      ]
     },
     "execution_count": 113,
     "metadata": {},
     "output_type": "execute_result"
    }
   ],
   "source": [
    "A = np.array([[90,60,90], \n",
    "              [90,90,30],\n",
    "              [60,60,60],\n",
    "              [60,60,90],\n",
    "              [30,30,30]])\n",
    "\n",
    "A"
   ]
  },
  {
   "cell_type": "code",
   "execution_count": 114,
   "metadata": {},
   "outputs": [
    {
     "data": {
      "text/plain": [
       "array([[-34.37098481, -13.66927088],\n",
       "       [ -9.98345733,  47.68820559],\n",
       "       [  3.93481353,  -2.31599277],\n",
       "       [-14.69691716, -25.24923474],\n",
       "       [ 55.11654576,  -6.45370719]])"
      ]
     },
     "execution_count": 114,
     "metadata": {},
     "output_type": "execute_result"
    }
   ],
   "source": [
    "pca = PCA(n_components=2)\n",
    "pca.fit_transform(A)"
   ]
  },
  {
   "cell_type": "code",
   "execution_count": 115,
   "metadata": {
    "scrolled": false
   },
   "outputs": [
    {
     "data": {
      "text/plain": [
       "array([[-0.65580225, -0.4291978 , -0.62105769],\n",
       "       [ 0.3859988 ,  0.51636642, -0.7644414 ]])"
      ]
     },
     "execution_count": 115,
     "metadata": {},
     "output_type": "execute_result"
    }
   ],
   "source": [
    "pca.components_"
   ]
  },
  {
   "cell_type": "code",
   "execution_count": null,
   "metadata": {},
   "outputs": [],
   "source": []
  }
 ],
 "metadata": {
  "kernelspec": {
   "display_name": "Python [conda env:learn-env] *",
   "language": "python",
   "name": "conda-env-learn-env-py"
  },
  "language_info": {
   "codemirror_mode": {
    "name": "ipython",
    "version": 3
   },
   "file_extension": ".py",
   "mimetype": "text/x-python",
   "name": "python",
   "nbconvert_exporter": "python",
   "pygments_lexer": "ipython3",
   "version": "3.6.9"
  },
  "toc": {
   "base_numbering": 1,
   "nav_menu": {},
   "number_sections": true,
   "sideBar": true,
   "skip_h1_title": true,
   "title_cell": "Table of Contents",
   "title_sidebar": "Contents",
   "toc_cell": false,
   "toc_position": {},
   "toc_section_display": true,
   "toc_window_display": true
  }
 },
 "nbformat": 4,
 "nbformat_minor": 2
}
