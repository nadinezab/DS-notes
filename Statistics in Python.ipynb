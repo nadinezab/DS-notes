{
 "cells": [
  {
   "cell_type": "markdown",
   "metadata": {
    "toc": true
   },
   "source": [
    "<h1>Table of Contents<span class=\"tocSkip\"></span></h1>\n",
    "<div class=\"toc\"><ul class=\"toc-item\"><li><span><a href=\"#(Student's)-t-test\" data-toc-modified-id=\"(Student's)-t-test-1\"><span class=\"toc-item-num\">1&nbsp;&nbsp;</span>(Student's) t-test</a></span><ul class=\"toc-item\"><li><span><a href=\"#Python-code\" data-toc-modified-id=\"Python-code-1.1\"><span class=\"toc-item-num\">1.1&nbsp;&nbsp;</span>Python code</a></span></li><li><span><a href=\"#Examples\" data-toc-modified-id=\"Examples-1.2\"><span class=\"toc-item-num\">1.2&nbsp;&nbsp;</span>Examples</a></span></li><li><span><a href=\"#Visualisations\" data-toc-modified-id=\"Visualisations-1.3\"><span class=\"toc-item-num\">1.3&nbsp;&nbsp;</span>Visualisations</a></span></li><li><span><a href=\"#Confidence-Intervals\" data-toc-modified-id=\"Confidence-Intervals-1.4\"><span class=\"toc-item-num\">1.4&nbsp;&nbsp;</span>Confidence Intervals</a></span></li></ul></li><li><span><a href=\"#Welch's-t-test\" data-toc-modified-id=\"Welch's-t-test-2\"><span class=\"toc-item-num\">2&nbsp;&nbsp;</span>Welch's t-test</a></span><ul class=\"toc-item\"><li><span><a href=\"#Python-code\" data-toc-modified-id=\"Python-code-2.1\"><span class=\"toc-item-num\">2.1&nbsp;&nbsp;</span>Python code</a></span></li><li><span><a href=\"#Examples\" data-toc-modified-id=\"Examples-2.2\"><span class=\"toc-item-num\">2.2&nbsp;&nbsp;</span>Examples</a></span></li><li><span><a href=\"#Alternative-using-functions\" data-toc-modified-id=\"Alternative-using-functions-2.3\"><span class=\"toc-item-num\">2.3&nbsp;&nbsp;</span>Alternative using functions</a></span></li></ul></li><li><span><a href=\"#ANOVA\" data-toc-modified-id=\"ANOVA-3\"><span class=\"toc-item-num\">3&nbsp;&nbsp;</span>ANOVA</a></span><ul class=\"toc-item\"><li><span><a href=\"#Python-code---Scipy-version\" data-toc-modified-id=\"Python-code---Scipy-version-3.1\"><span class=\"toc-item-num\">3.1&nbsp;&nbsp;</span>Python code - Scipy version</a></span></li><li><span><a href=\"#Example\" data-toc-modified-id=\"Example-3.2\"><span class=\"toc-item-num\">3.2&nbsp;&nbsp;</span>Example</a></span></li><li><span><a href=\"#Alternative---OLS-method\" data-toc-modified-id=\"Alternative---OLS-method-3.3\"><span class=\"toc-item-num\">3.3&nbsp;&nbsp;</span>Alternative - OLS method</a></span></li></ul></li><li><span><a href=\"#Kolmogorov-Smirnov-Test\" data-toc-modified-id=\"Kolmogorov-Smirnov-Test-4\"><span class=\"toc-item-num\">4&nbsp;&nbsp;</span>Kolmogorov-Smirnov Test</a></span><ul class=\"toc-item\"><li><span><a href=\"#Python-code\" data-toc-modified-id=\"Python-code-4.1\"><span class=\"toc-item-num\">4.1&nbsp;&nbsp;</span>Python code</a></span></li><li><span><a href=\"#Examples\" data-toc-modified-id=\"Examples-4.2\"><span class=\"toc-item-num\">4.2&nbsp;&nbsp;</span>Examples</a></span></li></ul></li><li><span><a href=\"#Type-1-and-type-2-errors\" data-toc-modified-id=\"Type-1-and-type-2-errors-5\"><span class=\"toc-item-num\">5&nbsp;&nbsp;</span>Type 1 and type 2 errors</a></span></li><li><span><a href=\"#Effect-size\" data-toc-modified-id=\"Effect-size-6\"><span class=\"toc-item-num\">6&nbsp;&nbsp;</span>Effect size</a></span></li><li><span><a href=\"#Power\" data-toc-modified-id=\"Power-7\"><span class=\"toc-item-num\">7&nbsp;&nbsp;</span>Power</a></span><ul class=\"toc-item\"><li><span><a href=\"#Python-code\" data-toc-modified-id=\"Python-code-7.1\"><span class=\"toc-item-num\">7.1&nbsp;&nbsp;</span>Python code</a></span></li><li><span><a href=\"#Examples\" data-toc-modified-id=\"Examples-7.2\"><span class=\"toc-item-num\">7.2&nbsp;&nbsp;</span>Examples</a></span></li><li><span><a href=\"#Visualisation\" data-toc-modified-id=\"Visualisation-7.3\"><span class=\"toc-item-num\">7.3&nbsp;&nbsp;</span>Visualisation</a></span></li></ul></li><li><span><a href=\"#Additional-Topics\" data-toc-modified-id=\"Additional-Topics-8\"><span class=\"toc-item-num\">8&nbsp;&nbsp;</span>Additional Topics</a></span><ul class=\"toc-item\"><li><span><a href=\"#Resampling-Methods\" data-toc-modified-id=\"Resampling-Methods-8.1\"><span class=\"toc-item-num\">8.1&nbsp;&nbsp;</span>Resampling Methods</a></span></li><li><span><a href=\"#Bonferroni-correction\" data-toc-modified-id=\"Bonferroni-correction-8.2\"><span class=\"toc-item-num\">8.2&nbsp;&nbsp;</span>Bonferroni correction</a></span></li><li><span><a href=\"#Goodhart's-law\" data-toc-modified-id=\"Goodhart's-law-8.3\"><span class=\"toc-item-num\">8.3&nbsp;&nbsp;</span>Goodhart's law</a></span></li></ul></li></ul></div>"
   ]
  },
  {
   "cell_type": "markdown",
   "metadata": {},
   "source": [
    "# Statistics in Python"
   ]
  },
  {
   "cell_type": "code",
   "execution_count": 1,
   "metadata": {},
   "outputs": [],
   "source": [
    "import pandas as pd\n",
    "import numpy as np\n",
    "import scipy.stats as stats\n",
    "import matplotlib.pyplot as plt\n",
    "\n",
    "# for power test\n",
    "from statsmodels.stats.power import TTestIndPower, TTestPower\n",
    "\n",
    "# for ANOVA\n",
    "import statsmodels.api as sm\n",
    "from statsmodels.formula.api import ols\n",
    "\n",
    "\n",
    "%matplotlib inline"
   ]
  },
  {
   "cell_type": "markdown",
   "metadata": {},
   "source": [
    "*A successful experiment doesn't prove a relationship between a dependent and independent variable, it just proves that there is not enough evidence to believe there is no relationship.*"
   ]
  },
  {
   "cell_type": "markdown",
   "metadata": {},
   "source": [
    "## (Student's) t-test"
   ]
  },
  {
   "cell_type": "markdown",
   "metadata": {},
   "source": [
    "Used since we don't know the population distribution (so don't have population standard deviation)\n",
    "\n",
    "Similar to normal curve, but drops off less quickly at the tails (less certain that the mean is the \"actual\" mean.)\n",
    "\n",
    "**One-sample t-test** compares the mean of the sample to a known value.\n",
    "\n",
    "**Two-sample t-test** assumes samples are of equal size and equal variance."
   ]
  },
  {
   "cell_type": "markdown",
   "metadata": {},
   "source": [
    "**Steps**\n",
    "\n",
    "1 - Establish H0 and H1\n",
    "\n",
    "2 - Choose significance level alpha\n",
    "\n",
    "3 - Calculate test statistic\n",
    "\n",
    "4 - Determine t-critical value\n",
    "\n",
    "5 - Compare results"
   ]
  },
  {
   "cell_type": "markdown",
   "metadata": {},
   "source": [
    "If t-statistic is greater than t-critical and p-value is less than alpha, we reject H0 in favour of H1 and conclude that the results are statistically significant. Otherwise we cannot reject H0."
   ]
  },
  {
   "cell_type": "markdown",
   "metadata": {},
   "source": [
    "### Python code"
   ]
  },
  {
   "cell_type": "markdown",
   "metadata": {},
   "source": [
    "`scipy.stats.ttest_1samp(a, popmean, axis=0, nan_policy='propagate')`\n",
    "\n",
    "This is a two-sided test for the null hypothesis that the expected value (mean) of a sample of independent observations a is equal to the given population mean, popmean."
   ]
  },
  {
   "cell_type": "markdown",
   "metadata": {},
   "source": [
    "`scipy.stats.ttest_ind(a, b, axis=0, equal_var=True, nan_policy='propagate')`\n",
    "\n",
    "This is a two-sided test for the null hypothesis that 2 independent samples\n",
    "have identical average (expected) values. This test assumes that the\n",
    "populations have identical variances by default"
   ]
  },
  {
   "cell_type": "markdown",
   "metadata": {},
   "source": [
    "*Returns*\n",
    "\n",
    "statistic (float or array): the calculated t-statistic\n",
    "\n",
    "pvalue (float or array): the two-tailed p-value"
   ]
  },
  {
   "cell_type": "markdown",
   "metadata": {},
   "source": [
    "### Examples"
   ]
  },
  {
   "cell_type": "code",
   "execution_count": 2,
   "metadata": {},
   "outputs": [
    {
     "name": "stdout",
     "output_type": "stream",
     "text": [
      "t-critical: 1.729\n",
      "t-statistic: 12.688, p-value: 0.0\n",
      "Reject Null Hypothesis. Results are statistically significant\n"
     ]
    }
   ],
   "source": [
    "# One-sample t-test\n",
    "\n",
    "sample = np.array([84.0, 92.4, 74.3, 79.4, 86.7, 75.3, 90.9, 86.1, 81.0, 85.1,78.7, 73.5,\n",
    "                   86.9, 87.4, 82.7, 81.9, 69.9, 77.2, 79.3, 83.3])\n",
    "\n",
    "# Provided popmean and alpha\n",
    "mu = 65\n",
    "alpha = 0.05\n",
    "\n",
    "# t-critical\n",
    "t_crit = stats.t.ppf(1-alpha, df = len(sample)-1)\n",
    "print(f't-critical: {round(t_crit,3)}')\n",
    "\n",
    "# One sample t-test, comparing to popmean\n",
    "t_value, p_value = stats.ttest_1samp(a = sample, popmean = mu )\n",
    "print(f't-statistic: {round(t_value,3)}, p-value: {round(p_value,6)}')\n",
    "\n",
    "# Compare and print result\n",
    "if (t_value>t_crit) and (p_value < alpha):\n",
    "    print(f\"Reject Null Hypothesis. Results are statistically significant\")\n",
    "else:\n",
    "    print(\"Cannot reject Null Hypothesis\")"
   ]
  },
  {
   "cell_type": "code",
   "execution_count": 3,
   "metadata": {},
   "outputs": [
    {
     "name": "stdout",
     "output_type": "stream",
     "text": [
      "t-critical: 1.729\n",
      "t-statistic: -1.892, p-value: 0.061504\n",
      "Cannot reject Null Hypothesis\n"
     ]
    }
   ],
   "source": [
    "# Two-sample t-test\n",
    "\n",
    "control = np.array([166, 165, 120,  94, 104, 166,  98,  85,  97,  87, 114, 100, 152,\n",
    "                    87, 152, 102,  82,  80,  84, 109,  98, 154, 135, 164, 137, 128,\n",
    "                    122, 146,  86, 146,  85, 101, 109, 105, 163, 136, 142, 144, 140,\n",
    "                    128, 126, 119, 121, 126, 169,  87,  97, 167,  89, 155])\n",
    "\n",
    "experimental = np.array([ 83, 100, 123,  75, 130,  77,  78,  87, 116, 116, 141,  93, 107,\n",
    "                         101, 142, 152, 130, 123, 122, 154, 119, 149, 106, 107, 108, 151,\n",
    "                         97,  95, 104, 141,  80, 110, 136, 134, 142, 135, 111,  83,  86,\n",
    "                         116,  86, 117,  87, 143, 104, 107,  86,  88, 124,  76])\n",
    "alpha = 0.05\n",
    "\n",
    "# t-critical\n",
    "t_crit = stats.t.ppf(1-alpha, df = len(sample)-1)\n",
    "print(f't-critical: {round(t_crit,3)}')\n",
    "\n",
    "t_value, p_value = stats.ttest_ind(experimental, control)\n",
    "print(f't-statistic: {round(t_value,3)}, p-value: {round(p_value,6)}')\n",
    "\n",
    "# Compare and print result\n",
    "if (t_value>t_crit) and (p_value < alpha):\n",
    "    print(f\"Reject Null Hypothesis. Results are statistically significant\")\n",
    "else:\n",
    "    print(\"Cannot reject Null Hypothesis\")"
   ]
  },
  {
   "cell_type": "code",
   "execution_count": 4,
   "metadata": {},
   "outputs": [],
   "source": [
    "# Generate sample\n",
    "sample1 = np.random.normal(50, 10, size=500)\n",
    "sample2 = np.random.normal(40, 10, size=500)"
   ]
  },
  {
   "cell_type": "code",
   "execution_count": 5,
   "metadata": {},
   "outputs": [
    {
     "data": {
      "text/plain": [
       "1.647912984059706"
      ]
     },
     "execution_count": 5,
     "metadata": {},
     "output_type": "execute_result"
    }
   ],
   "source": [
    "# T-critical\n",
    "alpha = 0.05\n",
    "t_crit = stats.t.ppf(1-alpha, df = len(sample1)-1)\n",
    "t_crit"
   ]
  },
  {
   "cell_type": "code",
   "execution_count": 6,
   "metadata": {},
   "outputs": [
    {
     "data": {
      "text/plain": [
       "(17.44720242798521, 1.057744477738947e-59)"
      ]
     },
     "execution_count": 6,
     "metadata": {},
     "output_type": "execute_result"
    }
   ],
   "source": [
    "# Two sample test - comparing two samples\n",
    "t_val, p_val = stats.ttest_ind(sample1, sample2)\n",
    "t_val, p_val"
   ]
  },
  {
   "cell_type": "markdown",
   "metadata": {},
   "source": [
    "### Visualisations"
   ]
  },
  {
   "cell_type": "code",
   "execution_count": 7,
   "metadata": {},
   "outputs": [
    {
     "data": {
      "image/png": "[encoded data removed]",
      "text/plain": [
       "<Figure size 576x360 with 1 Axes>"
      ]
     },
     "metadata": {
      "needs_background": "light"
     },
     "output_type": "display_data"
    }
   ],
   "source": [
    "# Generate points on x-axis\n",
    "xs = np.linspace(-5,5, 200)\n",
    "# Get pdf\n",
    "ys = stats.t.pdf(xs, df = 1, loc = 0, scale = 1)\n",
    "# Initialise figure\n",
    "fig = plt.figure(figsize = (8,5))\n",
    "# Get axis from figure\n",
    "ax = fig.gca()\n",
    "# Plot pdf\n",
    "ax.plot(xs, ys, linewidth=3, color='darkblue')\n",
    "# Plot t\n",
    "ax.axvline(abs(t_value), color = 'red', label = 't-statistic')\n",
    "# Plot t-critical\n",
    "ax.axvline(t_crit, color = 'green', label = 't-critical')\n",
    "# Fill tail\n",
    "ax.fill_betweenx(ys, xs, t_crit, where = xs > t_crit)\n",
    "# Display plot\n",
    "plt.legend()\n",
    "plt.show()"
   ]
  },
  {
   "cell_type": "markdown",
   "metadata": {},
   "source": [
    "### Confidence Intervals"
   ]
  },
  {
   "cell_type": "code",
   "execution_count": 8,
   "metadata": {},
   "outputs": [
    {
     "data": {
      "text/plain": [
       "array([50.61173788, 57.65029216, 46.90184771, 67.19075955, 54.84692177,\n",
       "       52.80155181, 72.98458251, 33.4884996 , 79.01517388, 57.0578033 ])"
      ]
     },
     "execution_count": 8,
     "metadata": {},
     "output_type": "execute_result"
    }
   ],
   "source": [
    "# Generate random samples\n",
    "# 500 data points, mean is 54 and std deviation is 17\n",
    "samples = np.random.normal(54, 17, size=500)\n",
    "samples[:10]"
   ]
  },
  {
   "cell_type": "code",
   "execution_count": 9,
   "metadata": {},
   "outputs": [
    {
     "data": {
      "image/png": "[encoded data removed]",
      "text/plain": [
       "<Figure size 648x648 with 1 Axes>"
      ]
     },
     "metadata": {
      "needs_background": "light"
     },
     "output_type": "display_data"
    }
   ],
   "source": [
    "df = pd.DataFrame(samples)\n",
    "df.hist(bins=100,range=(-20,120),figsize=(9,9))\n",
    "plt.show()"
   ]
  },
  {
   "cell_type": "code",
   "execution_count": 10,
   "metadata": {},
   "outputs": [
    {
     "data": {
      "text/plain": [
       "(21.519457368101413, 86.41237678420359)"
      ]
     },
     "execution_count": 10,
     "metadata": {},
     "output_type": "execute_result"
    }
   ],
   "source": [
    "#Min and Max of Confidence Interval\n",
    "min_ci, max_ci = stats.t.interval(alpha = 0.95,          \n",
    "                                  df = len(samples)-1,    \n",
    "                                  loc = samples.mean(),\n",
    "                                  scale = samples.std())\n",
    "min_ci, max_ci"
   ]
  },
  {
   "cell_type": "markdown",
   "metadata": {},
   "source": [
    "## Welch's t-test"
   ]
  },
  {
   "cell_type": "markdown",
   "metadata": {},
   "source": [
    "More accurate than Student's t-test when samples are of different size and different variance."
   ]
  },
  {
   "cell_type": "markdown",
   "metadata": {},
   "source": [
    "The t-value (t-statistic):\n",
    "\n",
    "$ \\Large t = \\frac{\\bar{X_1}-\\bar{X_2}}{\\sqrt{\\frac{s_1^2}{N_1} + \\frac{s_2^2}{N_2}}} = \\frac{\\bar{X_1}-\\bar{X_2}}{\\sqrt{se_1^2+se_2^2}}$ where\n",
    "\n",
    "$\\bar{X_i}$ - mean of sample i\n",
    "$s_i$ - variance of sample i\n",
    "$N_i$ - sample size of sample i\n",
    "\n",
    "Degrees of freedom:\n",
    "\n",
    "$ \\Large v \\approx \\frac{\\left( \\frac{s_1^2}{N_1} + \\frac{s_2^2}{N_2}\\right)^2}{\\frac{s_1^4}{N_1^2v_1} + \\frac{s_2^4}{N_2^2v_2}} $"
   ]
  },
  {
   "cell_type": "markdown",
   "metadata": {},
   "source": [
    "### Python code"
   ]
  },
  {
   "cell_type": "markdown",
   "metadata": {},
   "source": [
    "`scipy.stats.ttest_ind(a, b, axis=0, equal_var=False, nan_policy='propagate')`\n",
    "\n",
    "Same as for Student's t-test, but set `equal_var` to be `False` does Welch's t-test instead."
   ]
  },
  {
   "cell_type": "markdown",
   "metadata": {},
   "source": [
    "### Examples"
   ]
  },
  {
   "cell_type": "code",
   "execution_count": 11,
   "metadata": {},
   "outputs": [
    {
     "data": {
      "text/plain": [
       "Ttest_indResult(statistic=-1.5661372030747736, pvalue=0.12022690104328873)"
      ]
     },
     "execution_count": 11,
     "metadata": {},
     "output_type": "execute_result"
    }
   ],
   "source": [
    "# Define rvs with different size, mean and variance\n",
    "rvs1 = stats.norm.rvs(loc=5,scale=10,size=500)\n",
    "rvs2 = stats.norm.rvs(loc=8, scale=20, size=100)\n",
    "\n",
    "# t-test with equal_var = False\n",
    "stats.ttest_ind(rvs1, rvs2, equal_var = False)"
   ]
  },
  {
   "cell_type": "markdown",
   "metadata": {},
   "source": [
    "### Alternative using functions"
   ]
  },
  {
   "cell_type": "code",
   "execution_count": 12,
   "metadata": {},
   "outputs": [],
   "source": [
    "def welch_t(a, b):\n",
    "    \n",
    "    \"\"\" Calculate Welch's t statistic for two samples. \"\"\"\n",
    "\n",
    "    numerator = a.mean() - b.mean()\n",
    "    \n",
    "    # “ddof = Delta Degrees of Freedom”: the divisor used in the calculation is N - ddof, \n",
    "    #  where N represents the number of elements. By default ddof is zero.\n",
    "    \n",
    "    denominator = np.sqrt(a.var(ddof=1)/a.size + b.var(ddof=1)/b.size)\n",
    "    \n",
    "    return np.abs(numerator/denominator)"
   ]
  },
  {
   "cell_type": "code",
   "execution_count": 13,
   "metadata": {},
   "outputs": [],
   "source": [
    "def welch_df(a, b):\n",
    "    \n",
    "    \"\"\" Calculate the effective degrees of freedom for two samples. This function returns the degrees of freedom \"\"\"\n",
    "    \n",
    "    s1 = a.var(ddof=1) \n",
    "    s2 = b.var(ddof=1)\n",
    "    n1 = a.size\n",
    "    n2 = b.size\n",
    "    \n",
    "    numerator = (s1/n1 + s2/n2)**2\n",
    "    denominator = (s1/ n1)**2/(n1 - 1) + (s2/ n2)**2/(n2 - 1)\n",
    "    \n",
    "    return numerator/denominator"
   ]
  },
  {
   "cell_type": "code",
   "execution_count": 14,
   "metadata": {},
   "outputs": [],
   "source": [
    "def p_value_welch_ttest(a, b, two_sided=False):\n",
    "    \"\"\"Calculates the p-value for Welch's t-test given two samples.\n",
    "    By default, the returned p-value is for a one-sided t-test. \n",
    "    Set the two-sided parameter to True if you wish to perform a two-sided t-test instead.\n",
    "    \"\"\"\n",
    "    t = welch_t(a, b)\n",
    "    df = welch_df(a, b)\n",
    "    \n",
    "    p = 1-stats.t.cdf(np.abs(t), df)\n",
    "    \n",
    "    if two_sided:\n",
    "        return 2*p\n",
    "    else:\n",
    "        return p"
   ]
  },
  {
   "cell_type": "code",
   "execution_count": 15,
   "metadata": {
    "scrolled": true
   },
   "outputs": [
    {
     "data": {
      "text/plain": [
       "0.12022690104328859"
      ]
     },
     "execution_count": 15,
     "metadata": {},
     "output_type": "execute_result"
    }
   ],
   "source": [
    "#Example\n",
    "p_value_welch_ttest(rvs1, rvs2, two_sided = True)"
   ]
  },
  {
   "cell_type": "markdown",
   "metadata": {},
   "source": [
    "## ANOVA"
   ]
  },
  {
   "cell_type": "markdown",
   "metadata": {},
   "source": [
    "ANOVA (Analysis of Variance) - method for generalising statistic tests to multiple groups. Way of testing multiple features at once.\n",
    "\n",
    "To generate ANOVA table, first fit a linear model, then obtain the table from this object.\n",
    "\n",
    "Two category ANOVA is identical to 2-tailed t-test."
   ]
  },
  {
   "cell_type": "markdown",
   "metadata": {},
   "source": [
    "### Python code - Scipy version"
   ]
  },
  {
   "cell_type": "markdown",
   "metadata": {},
   "source": [
    "`scipy.stats.f_oneway(*args)`\n",
    "\n",
    "The one-way ANOVA tests the null hypothesis that two or more groups have the same population mean. The test is applied to samples from two or more groups, possibly with differing sizes.\n",
    "\n",
    "Parameters\n",
    "\n",
    "sample1, sample2, …array_like - The sample measurements for each group.\n",
    "\n",
    "Returns\n",
    "\n",
    "statistic(float) - the computed F-value of the test.\n",
    "\n",
    "pvalue (float) - the associated p-value from the F-distribution."
   ]
  },
  {
   "cell_type": "markdown",
   "metadata": {},
   "source": [
    "### Example"
   ]
  },
  {
   "cell_type": "code",
   "execution_count": 16,
   "metadata": {
    "scrolled": true
   },
   "outputs": [
    {
     "data": {
      "text/plain": [
       "F_onewayResult(statistic=7.121019471642447, pvalue=0.0002812242314534544)"
      ]
     },
     "execution_count": 16,
     "metadata": {},
     "output_type": "execute_result"
    }
   ],
   "source": [
    "tillamook = [0.0571, 0.0813, 0.0831, 0.0976, 0.0817, 0.0859, 0.0735,\n",
    "             0.0659, 0.0923, 0.0836]\n",
    "newport = [0.0873, 0.0662, 0.0672, 0.0819, 0.0749, 0.0649, 0.0835,\n",
    "           0.0725]\n",
    "petersburg = [0.0974, 0.1352, 0.0817, 0.1016, 0.0968, 0.1064, 0.105]\n",
    "magadan = [0.1033, 0.0915, 0.0781, 0.0685, 0.0677, 0.0697, 0.0764,\n",
    "           0.0689]\n",
    "tvarminne = [0.0703, 0.1026, 0.0956, 0.0973, 0.1039, 0.1045]\n",
    "stats.f_oneway(tillamook, newport, petersburg, magadan, tvarminne)"
   ]
  },
  {
   "cell_type": "markdown",
   "metadata": {},
   "source": [
    "Small p-value so there is a statistical difference. Would have to do pairwise t-test to investigate what it is/ which one is different etc."
   ]
  },
  {
   "cell_type": "markdown",
   "metadata": {},
   "source": [
    "### Alternative - OLS method"
   ]
  },
  {
   "cell_type": "markdown",
   "metadata": {},
   "source": [
    "`Control_Column ~ C(factor_col1) + factor_col2 + C(factor_col3) + ... + X`\n",
    "\n",
    "We indicate categorical variables by wrapping them with C()."
   ]
  },
  {
   "cell_type": "code",
   "execution_count": 17,
   "metadata": {},
   "outputs": [
    {
     "data": {
      "text/html": [
       "<div>\n",
       "<style scoped>\n",
       "    .dataframe tbody tr th:only-of-type {\n",
       "        vertical-align: middle;\n",
       "    }\n",
       "\n",
       "    .dataframe tbody tr th {\n",
       "        vertical-align: top;\n",
       "    }\n",
       "\n",
       "    .dataframe thead th {\n",
       "        text-align: right;\n",
       "    }\n",
       "</style>\n",
       "<table border=\"1\" class=\"dataframe\">\n",
       "  <thead>\n",
       "    <tr style=\"text-align: right;\">\n",
       "      <th></th>\n",
       "      <th>S</th>\n",
       "      <th>X</th>\n",
       "      <th>E</th>\n",
       "      <th>M</th>\n",
       "    </tr>\n",
       "  </thead>\n",
       "  <tbody>\n",
       "    <tr>\n",
       "      <td>0</td>\n",
       "      <td>13876</td>\n",
       "      <td>1</td>\n",
       "      <td>1</td>\n",
       "      <td>1</td>\n",
       "    </tr>\n",
       "    <tr>\n",
       "      <td>1</td>\n",
       "      <td>11608</td>\n",
       "      <td>1</td>\n",
       "      <td>3</td>\n",
       "      <td>0</td>\n",
       "    </tr>\n",
       "    <tr>\n",
       "      <td>2</td>\n",
       "      <td>18701</td>\n",
       "      <td>1</td>\n",
       "      <td>3</td>\n",
       "      <td>1</td>\n",
       "    </tr>\n",
       "    <tr>\n",
       "      <td>3</td>\n",
       "      <td>11283</td>\n",
       "      <td>1</td>\n",
       "      <td>2</td>\n",
       "      <td>0</td>\n",
       "    </tr>\n",
       "    <tr>\n",
       "      <td>4</td>\n",
       "      <td>11767</td>\n",
       "      <td>1</td>\n",
       "      <td>3</td>\n",
       "      <td>0</td>\n",
       "    </tr>\n",
       "  </tbody>\n",
       "</table>\n",
       "</div>"
      ],
      "text/plain": [
       "       S  X  E  M\n",
       "0  13876  1  1  1\n",
       "1  11608  1  3  0\n",
       "2  18701  1  3  1\n",
       "3  11283  1  2  0\n",
       "4  11767  1  3  0"
      ]
     },
     "execution_count": 17,
     "metadata": {},
     "output_type": "execute_result"
    }
   ],
   "source": [
    "df = pd.read_csv('IT_salaries.csv')\n",
    "df.head()"
   ]
  },
  {
   "cell_type": "markdown",
   "metadata": {},
   "source": [
    "This particular table is of salaries in IT and has 4 columns:\n",
    "\n",
    "S - the individuals salary\n",
    "\n",
    "X - years of experience\n",
    "\n",
    "E - education level (1-Bachelors, 2-Masters, 3-PHD)\n",
    "\n",
    "M - management (0-no management, 1-yes management)"
   ]
  },
  {
   "cell_type": "code",
   "execution_count": 18,
   "metadata": {},
   "outputs": [
    {
     "name": "stdout",
     "output_type": "stream",
     "text": [
      "                sum_sq    df           F        PR(>F)\n",
      "C(E)      9.152624e+07   2.0   43.351589  7.672450e-11\n",
      "C(M)      5.075724e+08   1.0  480.825394  2.901444e-24\n",
      "X         3.380979e+08   1.0  320.281524  5.546313e-21\n",
      "Residual  4.328072e+07  41.0         NaN           NaN\n"
     ]
    }
   ],
   "source": [
    "formula = 'S ~ C(E) + C(M) + X'\n",
    "lm = ols(formula, df).fit()\n",
    "table = sm.stats.anova_lm(lm, typ=2)\n",
    "print(table)"
   ]
  },
  {
   "cell_type": "markdown",
   "metadata": {},
   "source": [
    "As small p-values, can conclude that experience, education and management all have a significant influence on salary."
   ]
  },
  {
   "cell_type": "markdown",
   "metadata": {},
   "source": [
    "## Kolmogorov-Smirnov Test"
   ]
  },
  {
   "cell_type": "markdown",
   "metadata": {},
   "source": [
    "Way of comparing two distributions, or a sample distribution with a theoretical distribution (most often the normal distribution).\n",
    "\n",
    "The distributions are compared in cumulative form as **empirical cumulative distribution functions**.\n",
    "\n",
    "If X is a random variable with CDF \n",
    "\n",
    "$$ F(X) = P(X \\leq x) $$\n",
    "\n",
    "**One-sample K-S Test or 'goodness of fit' test**:\n",
    "\n",
    "$$ d = max (abs (F_0(X) - F_r(X)) $$\n",
    "\n",
    "$$ F_0(X) = \\frac{\\# obs \\leq X}{\\# obs}; F_r(X) = theoretical frequency $$\n",
    "\n",
    "If statistic is less than critical value, cannot reject H0. \n",
    "\n",
    "If statistic is greater than critical value, reject H0.\n",
    "\n",
    "**Two-sample K-S Test**:\n",
    "\n",
    "\n",
    "$$ 𝑑=𝑚𝑎𝑥[𝑎𝑏𝑠[𝐹𝑛1(𝑋)−𝐹𝑛2(𝑋)]] $$\n",
    "\n",
    "n1 = Observations from first sample.\n",
    "\n",
    "n2 = Observations from second sample.\n",
    "\n",
    "The two-sample K-S test checks if two **independent** samples have been drawn from the same population, or, equivalently, from two identical populations (X = Y)."
   ]
  },
  {
   "cell_type": "markdown",
   "metadata": {},
   "source": [
    "### Python code"
   ]
  },
  {
   "cell_type": "markdown",
   "metadata": {},
   "source": [
    "`scipy.stats.kstest(rvs, cdf, args=(), N=20, alternative='two-sided', mode='approx')`\n",
    "\n",
    "Perform the Kolmogorov-Smirnov test for goodness of fit.\n",
    "\n",
    "This performs a test of the distribution G(x) of an observed random variable against a given distribution F(x). Under the null hypothesis the two distributions are identical, G(x)=F(x). The alternative hypothesis can be either ‘two-sided’ (default), ‘less’ or ‘greater’. The KS test is only valid for continuous distributions.\n",
    "\n",
    "*Returns*\t\n",
    "D (float): KS test statistic, either D, D+ or D-.\n",
    "\n",
    "p-value (float): One-tailed or two-tailed p-value."
   ]
  },
  {
   "cell_type": "markdown",
   "metadata": {},
   "source": [
    "`scipy.stats.ks_2samp(data1, data2)`\n",
    "\n",
    "Computes the Kolmogorov-Smirnov statistic on 2 samples.\n",
    "\n",
    "This is a two-sided test for the null hypothesis that 2 independent samples are drawn from the same continuous distribution.\n",
    "\n",
    "*Returns*\t\n",
    "D (float): KS test statistic, either D\n",
    "\n",
    "p-value (float): One-tailed or two-tailed p-value."
   ]
  },
  {
   "cell_type": "markdown",
   "metadata": {},
   "source": [
    "### Examples"
   ]
  },
  {
   "cell_type": "code",
   "execution_count": 19,
   "metadata": {},
   "outputs": [
    {
     "name": "stdout",
     "output_type": "stream",
     "text": [
      "KstestResult(statistic=0.028163768420073287, pvalue=0.4017385380719243)\n",
      "KstestResult(statistic=0.5000004641882774, pvalue=1.0633908580489121e-231)\n"
     ]
    }
   ],
   "source": [
    "# Generate a uniform and try and see if normal (obviously true but check)\n",
    "x_uni = np.random.rand(1000)\n",
    "print(stats.kstest(x_uni, cdf = lambda x: x))\n",
    "print(stats.kstest(x_uni,'norm',args = (0,3)))"
   ]
  },
  {
   "cell_type": "code",
   "execution_count": 20,
   "metadata": {},
   "outputs": [
    {
     "data": {
      "text/plain": [
       "Ks_2sampResult(statistic=0.512, pvalue=8.626549012104484e-120)"
      ]
     },
     "execution_count": 20,
     "metadata": {},
     "output_type": "execute_result"
    }
   ],
   "source": [
    "x_1 = np.random.normal(loc = 10, scale = 3, size = 1000)\n",
    "x_2 = np.random.normal(loc = 15, scale = 5, size = 1000)\n",
    "stats.ks_2samp(x_1, x_2)"
   ]
  },
  {
   "cell_type": "markdown",
   "metadata": {},
   "source": [
    "## Type 1 and type 2 errors"
   ]
  },
  {
   "cell_type": "markdown",
   "metadata": {},
   "source": [
    "**Type 1 error** is a false positive. When you reject H0 when it should not have been rejected.\n",
    "\n",
    "**Type 2 error** is a false negative. When you fail to reject H0 even though it is false."
   ]
  },
  {
   "cell_type": "markdown",
   "metadata": {},
   "source": [
    "Reducing type 1 errors leads to an increase in type 2 errors and vice versa, so important to choose alpha and beta carefully."
   ]
  },
  {
   "cell_type": "markdown",
   "metadata": {},
   "source": [
    "Typically, **alpha = 0.05** and **beta = 0.2**"
   ]
  },
  {
   "cell_type": "markdown",
   "metadata": {},
   "source": [
    "## Effect size"
   ]
  },
  {
   "cell_type": "markdown",
   "metadata": {},
   "source": [
    "If the effect was significant, how significant was it? \n",
    "\n",
    "\n",
    "Pooled Variance:\n",
    "\n",
    "$$ \\sigma^2_{pooled} = \\frac{\\sigma^2_1 n_1 + \\sigma^2_2 n_2}{n_1 + n_2}$$\n",
    "**Cohen's d statistic**\n",
    "\n",
    "$$ d = \\frac{\\mu_1 - \\mu_2}{\\sigma_{pooled}} $$\n",
    "\n",
    "Pooled variance is the standardiser, average spread of data points around their group's mean.\n",
    "\n",
    "d is a way to represent the magnitude of difference between two groups. d is dimensionless.\n",
    "\n",
    "\n",
    "Rule of Thumb:\n",
    "\n",
    "**Small effect** = 0.2\n",
    "\n",
    "**Medium Effect** = 0.5\n",
    "\n",
    "**Large Effect** = 0.8"
   ]
  },
  {
   "cell_type": "markdown",
   "metadata": {},
   "source": [
    "## Power"
   ]
  },
  {
   "cell_type": "markdown",
   "metadata": {},
   "source": [
    "Statistical Power: How good is our test; essentially how many Type 2 errors\n",
    "\n",
    "$$power = 1 - \\beta$$\n",
    "\n",
    "Power ranges from 0 to 1, a test with power = 1 perfectly rejects H0 when it is false."
   ]
  },
  {
   "cell_type": "markdown",
   "metadata": {},
   "source": [
    "Adding more sample sizes when p-value is close can lead to artificially rejecting H0 when we shouldn't. As a solution, do a power calculation to determine optimal sample size for given alpha, power and effect size."
   ]
  },
  {
   "cell_type": "markdown",
   "metadata": {},
   "source": [
    "*Determine the probability of detecting an effect of a given size, with a given level of confidence (alpha) and under sample size constraints*"
   ]
  },
  {
   "cell_type": "markdown",
   "metadata": {},
   "source": [
    "Usually acceptable power is **0.8**."
   ]
  },
  {
   "cell_type": "markdown",
   "metadata": {},
   "source": [
    "### Python code"
   ]
  },
  {
   "cell_type": "markdown",
   "metadata": {},
   "source": [
    "`TTestPower.solve_power(effect_size=None, nobs=None, alpha=None, power=None, alternative='two-sided')`\n",
    "\n",
    "Solve for any one parameter of the power of a one sample t-test\n",
    "Exactly one needs to be None, all others need numeric values.\n",
    "\n",
    "This test can also be used for a paired t-test, where effect size is defined in terms of the mean difference, and nobs is the number of pairs.\n",
    "\n",
    "`alternative` str: ‘two-sided’ (default) or ‘one-sided’"
   ]
  },
  {
   "cell_type": "markdown",
   "metadata": {},
   "source": [
    "### Examples"
   ]
  },
  {
   "cell_type": "code",
   "execution_count": 21,
   "metadata": {},
   "outputs": [
    {
     "data": {
      "text/plain": [
       "393.4056989990335"
      ]
     },
     "execution_count": 21,
     "metadata": {},
     "output_type": "execute_result"
    }
   ],
   "source": [
    "# Calculate sample size required\n",
    "power_analysis = TTestIndPower()\n",
    "power_analysis.solve_power(effect_size=.2, alpha=.05, power=.8)"
   ]
  },
  {
   "cell_type": "code",
   "execution_count": 22,
   "metadata": {},
   "outputs": [
    {
     "data": {
      "text/plain": [
       "0.24175778678474177"
      ]
     },
     "execution_count": 22,
     "metadata": {},
     "output_type": "execute_result"
    }
   ],
   "source": [
    "# Calculate power\n",
    "power_analysis = TTestIndPower()\n",
    "power_analysis.solve_power(effect_size=.2, nobs1=80, alpha=.05)"
   ]
  },
  {
   "cell_type": "markdown",
   "metadata": {},
   "source": [
    "### Visualisation"
   ]
  },
  {
   "cell_type": "code",
   "execution_count": 23,
   "metadata": {},
   "outputs": [
    {
     "data": {
      "image/png": "[encoded data removed]",
      "text/plain": [
       "<Figure size 432x288 with 1 Axes>"
      ]
     },
     "metadata": {
      "needs_background": "light"
     },
     "output_type": "display_data"
    }
   ],
   "source": [
    "# Power plot for different effect sizes\n",
    "\n",
    "power_analysis = TTestIndPower()\n",
    "\n",
    "power_analysis.plot_power(dep_var='nobs',\n",
    "                          nobs = np.array(range(5,1500)),\n",
    "                          effect_size=np.array([.05, .1, .2,.3,.4,.5]),\n",
    "                          alpha=0.05)\n",
    "plt.show()"
   ]
  },
  {
   "cell_type": "markdown",
   "metadata": {},
   "source": [
    "## Additional Topics"
   ]
  },
  {
   "cell_type": "markdown",
   "metadata": {},
   "source": [
    "### Resampling Methods"
   ]
  },
  {
   "cell_type": "markdown",
   "metadata": {},
   "source": [
    "**Bootstrap** - take random samples with replacement from the original sample.\n",
    "\n",
    "**Jackknife** - take samples by removing one or more observations at a taime. Each of these (n-1)-sized samples is aggregated to form a new sample.\n",
    "\n",
    "**Permutation test** - instead of assuming the distribution, calculate all permutations of data and compute statistic."
   ]
  },
  {
   "cell_type": "markdown",
   "metadata": {},
   "source": [
    "### Bonferroni correction"
   ]
  },
  {
   "cell_type": "markdown",
   "metadata": {},
   "source": [
    "If alpha = 0.05 and we are doing 10 comparisons, alpha should be set to 0.05/10 ie 0.005. The bonferroni correction adjusts alpha when doing multiple comparisons."
   ]
  },
  {
   "cell_type": "markdown",
   "metadata": {},
   "source": [
    "### Goodhart's law"
   ]
  },
  {
   "cell_type": "markdown",
   "metadata": {},
   "source": [
    "*\"Any observed statsitical regularity will collapse once pressure is placed upon it for control purposes\"*\n",
    "\n",
    "Or in other words, any measure which becomes a target ceases to be an effective measure.\n",
    "\n",
    "E.g. Cobra skins bounty and standardised testing"
   ]
  }
 ],
 "metadata": {
  "kernelspec": {
   "display_name": "Python [conda env:learn-env] *",
   "language": "python",
   "name": "conda-env-learn-env-py"
  },
  "language_info": {
   "codemirror_mode": {
    "name": "ipython",
    "version": 3
   },
   "file_extension": ".py",
   "mimetype": "text/x-python",
   "name": "python",
   "nbconvert_exporter": "python",
   "pygments_lexer": "ipython3",
   "version": "3.6.9"
  },
  "toc": {
   "base_numbering": 1,
   "nav_menu": {},
   "number_sections": true,
   "sideBar": true,
   "skip_h1_title": true,
   "title_cell": "Table of Contents",
   "title_sidebar": "Contents",
   "toc_cell": true,
   "toc_position": {},
   "toc_section_display": true,
   "toc_window_display": true
  }
 },
 "nbformat": 4,
 "nbformat_minor": 2
}
