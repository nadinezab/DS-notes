{
 "cells": [
  {
   "cell_type": "markdown",
   "metadata": {},
   "source": [
    "# Linear Regression"
   ]
  },
  {
   "cell_type": "code",
   "execution_count": 2,
   "metadata": {},
   "outputs": [],
   "source": [
    "import pandas as pd\n",
    "import numpy as np\n",
    "import scipy.stats as stats\n",
    "import matplotlib.pyplot as plt\n",
    "\n",
    "\n",
    "%matplotlib inline"
   ]
  },
  {
   "cell_type": "markdown",
   "metadata": {},
   "source": [
    "## Introduction"
   ]
  },
  {
   "cell_type": "markdown",
   "metadata": {},
   "source": [
    "**Regression Analysis** is a **parametric technique** meaning a set of parameters are used to **predict** the value of an unknown target variable (or dependent variable)  𝑦  based on one or more of known input features (or independent variables, predictors), often denoted by  𝑥 .\n",
    "\n",
    "The term **linear** implies that the model functions along with a straight (or nearly straight) line.\n",
    "\n",
    "**Simple Linear Regression** uses a single feature (one independent variable) to model a linear relationship with a target (the dependent variable) by fitting an optimal model (i.e. the best straight line) to describe this relationship.\n",
    "\n",
    "**Multiple Linear Regression** uses more than one feature to predict a target variable by fitting the best linear relationship."
   ]
  },
  {
   "cell_type": "markdown",
   "metadata": {},
   "source": [
    "## Simple linear regression"
   ]
  },
  {
   "cell_type": "markdown",
   "metadata": {},
   "source": [
    "A straight line can be written as :\n",
    "$$ 𝑦=𝛽_0+𝛽_1𝑥 $$\n",
    "\n",
    "There are **4 key components** :\n",
    "- A **dependent variable** that needs to estimated and predicted (here:  𝑦 )\n",
    "- An **independent variable**, the input variable (here:  𝑥 )\n",
    "- The **slope** which determines the angle of the line (here: $𝛽_1$ ).\n",
    "- The **intercept** which is the constant determining the value of  𝑦  when  𝑥  is 0. We denoted the intercept here as $𝛽_0$ .\n",
    "\n",
    "When we draw our regression line, we use the following notations:\n",
    "\n",
    "$$ 𝑦̂ =𝛽̂_0+𝛽̂_1𝑥 $$\n",
    " \n",
    "As you can see, you're using a \"hat\" notation which stands for the fact that we are working with **estimations**."
   ]
  },
  {
   "cell_type": "markdown",
   "metadata": {},
   "source": [
    "### Steps"
   ]
  },
  {
   "cell_type": "markdown",
   "metadata": {},
   "source": [
    "Calculate the following:\n",
    "\n",
    "- The mean of the X  ($ \\bar X $) \n",
    "- The mean of the Y  ($ \\bar Y $) \n",
    "- The standard deviation of the X values  ($ 𝑆_𝑋 $) \n",
    "- The standard deviation of the y values  ($ 𝑆_𝑌 $) \n",
    "- The correlation between X and Y ( often denoted by the Greek letter \"Rho\" or  𝜌  - Pearson Correlation)"
   ]
  },
  {
   "cell_type": "markdown",
   "metadata": {},
   "source": [
    "**Calculating Slope**\n",
    "\n",
    "With the above ingredients in hand, we can calculate the slope (shown as  𝑏  below) of the best-fit line, using the formula:\n",
    "\n",
    "$$ 𝛽̂_1 =𝜌\\frac{𝑆_Y}{𝑆_𝑋} $$\n",
    " \n",
    "This formula is also known as the **least-squares** method.\n",
    "\n",
    "**Calculating the intercept**\n",
    "\n",
    "Now that we have the slope value ($𝛽̂_1$ ), we can put it back into our formula  ($ 𝑦̂ =𝛽̂_0+𝛽̂_1𝑥 $ )  to calculate intercept.\n",
    "\n",
    "$$ 𝛽̂_0 = \\bar Y −  𝛽̂_1 \\bar X $$ \n",
    "\n",
    "**Predicting from the model**\n",
    "\n",
    "When you have a regression line with defined parameters for slope and intercept as calculated above, you can easily predict the  𝑦̂   (target) value for a new  𝑥  (feature) value using the estimated parameter values:\n",
    "\n",
    "$$ 𝑦̂ = 𝛽̂_1 𝑥+ 𝛽̂_0 $$\n",
    " \n",
    "Remember that the difference between y and  𝑦̂   is that  𝑦̂   is the value predicted by the fitted model, whereas  𝑦  carries actual values of the variable (called the truth values) that were used to calculate the best fit."
   ]
  },
  {
   "cell_type": "markdown",
   "metadata": {},
   "source": []
  }
 ],
 "metadata": {
  "kernelspec": {
   "display_name": "Python [conda env:learn-env] *",
   "language": "python",
   "name": "conda-env-learn-env-py"
  },
  "language_info": {
   "codemirror_mode": {
    "name": "ipython",
    "version": 3
   },
   "file_extension": ".py",
   "mimetype": "text/x-python",
   "name": "python",
   "nbconvert_exporter": "python",
   "pygments_lexer": "ipython3",
   "version": "3.6.9"
  },
  "toc": {
   "base_numbering": 1,
   "nav_menu": {},
   "number_sections": true,
   "sideBar": true,
   "skip_h1_title": true,
   "title_cell": "Table of Contents",
   "title_sidebar": "Contents",
   "toc_cell": false,
   "toc_position": {},
   "toc_section_display": true,
   "toc_window_display": true
  }
 },
 "nbformat": 4,
 "nbformat_minor": 2
}
