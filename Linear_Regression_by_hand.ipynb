{
 "cells": [
  {
   "cell_type": "markdown",
   "metadata": {},
   "source": [
    "# Linear Regression \"by hand\""
   ]
  },
  {
   "cell_type": "markdown",
   "metadata": {},
   "source": [
    "## Data Points"
   ]
  },
  {
   "cell_type": "markdown",
   "metadata": {},
   "source": [
    "We are collecting data on the total number of sales per day for some business. We've got three data points in the format:\n",
    "\n",
    "(day, total number of sales(in hundreds))\n",
    "\n",
    "> (1, 1) , (2, 2) , (3, 2)"
   ]
  },
  {
   "cell_type": "markdown",
   "metadata": {},
   "source": [
    "Let us display this basic data in the form of a Pandas DataFrame."
   ]
  },
  {
   "cell_type": "code",
   "execution_count": 1,
   "metadata": {
    "scrolled": true
   },
   "outputs": [
    {
     "data": {
      "text/html": [
       "<div>\n",
       "<style scoped>\n",
       "    .dataframe tbody tr th:only-of-type {\n",
       "        vertical-align: middle;\n",
       "    }\n",
       "\n",
       "    .dataframe tbody tr th {\n",
       "        vertical-align: top;\n",
       "    }\n",
       "\n",
       "    .dataframe thead th {\n",
       "        text-align: right;\n",
       "    }\n",
       "</style>\n",
       "<table border=\"1\" class=\"dataframe\">\n",
       "  <thead>\n",
       "    <tr style=\"text-align: right;\">\n",
       "      <th></th>\n",
       "      <th>day</th>\n",
       "      <th>sales</th>\n",
       "    </tr>\n",
       "  </thead>\n",
       "  <tbody>\n",
       "    <tr>\n",
       "      <td>0</td>\n",
       "      <td>1</td>\n",
       "      <td>1</td>\n",
       "    </tr>\n",
       "    <tr>\n",
       "      <td>1</td>\n",
       "      <td>2</td>\n",
       "      <td>2</td>\n",
       "    </tr>\n",
       "    <tr>\n",
       "      <td>2</td>\n",
       "      <td>3</td>\n",
       "      <td>2</td>\n",
       "    </tr>\n",
       "  </tbody>\n",
       "</table>\n",
       "</div>"
      ],
      "text/plain": [
       "   day  sales\n",
       "0    1      1\n",
       "1    2      2\n",
       "2    3      2"
      ]
     },
     "execution_count": 1,
     "metadata": {},
     "output_type": "execute_result"
    }
   ],
   "source": [
    "import pandas as pd\n",
    "\n",
    "df = pd.DataFrame()\n",
    "df['day'] = [1,2,3]\n",
    "df['sales'] = [1,2,2]\n",
    "\n",
    "df.head()"
   ]
  },
  {
   "cell_type": "markdown",
   "metadata": {},
   "source": [
    "Let us plot the data using a scatter plot."
   ]
  },
  {
   "cell_type": "code",
   "execution_count": 2,
   "metadata": {},
   "outputs": [
    {
     "data": {
      "text/plain": [
       "<Figure size 640x480 with 1 Axes>"
      ]
     },
     "metadata": {},
     "output_type": "display_data"
    }
   ],
   "source": [
    "import matplotlib.pyplot as plt\n",
    "import numpy as np\n",
    "\n",
    "plt.scatter(df['day'], df['sales'])\n",
    "plt.xticks(df['day'])\n",
    "plt.yticks(df['sales'])\n",
    "plt.xlabel('Day')\n",
    "plt.ylabel('Sales')\n",
    "plt.title('Scatter Plot of Day vs Sales')\n",
    "plt.show()"
   ]
  },
  {
   "cell_type": "markdown",
   "metadata": {},
   "source": [
    "The purpose of linear regression is to fit a straight line that best describes the relationship between day and sales.\n",
    "\n",
    "We assume that there is an underlying relationship that maps “days” uniquely to “number of sales”, that can be written in the function form as an equation of the straight line i.e.\n",
    "\n",
    "$$ y = mx + c $$\n",
    "\n",
    "where $c$ is the intercept of the line and $m$ denotes the slope.\n",
    "\n",
    "In our case, we can write\n",
    "$$\\text{sales} = c + m*\\text{days} $$\n",
    "\n",
    "where $y$ is the number of sales per day and $x$ represents the day and $c$ (intercept) and $m$ (slope) are the regression coefficients we are looking for.\n",
    "\n",
    "Using our three data points, we can write:\n",
    "\n",
    "> $c + m*1 = 1$\n",
    "\n",
    "> $c + m*2 = 2$\n",
    "\n",
    "> $c + m*3 = 2$\n",
    "\n",
    "We can see that our data points do not lie on a line. As such we are after the best approximation."
   ]
  },
  {
   "cell_type": "markdown",
   "metadata": {},
   "source": [
    "## Linear Algebra "
   ]
  },
  {
   "cell_type": "markdown",
   "metadata": {},
   "source": [
    "### Solving our problem 'by hand'"
   ]
  },
  {
   "cell_type": "markdown",
   "metadata": {},
   "source": [
    "We have \n",
    "$$ X =  \\left[{\\begin{array}{cc}\n",
    "   1 & 1 \\\\\n",
    "   1 & 2 \\\\\n",
    "   1 & 3 \\\\\n",
    "  \\end{array}} \\right]\n",
    ",y =\\left[ {\\begin{array}{c}\n",
    "    1 \\\\\n",
    "    2 \\\\\n",
    "    2 \\\\\n",
    "  \\end{array} } \\right]\n",
    ", b =  \\left[ {\\begin{array}{c}\n",
    "   c \\\\\n",
    "   m \\\\\n",
    "  \\end{array} } \\right]\n",
    "$$"
   ]
  },
  {
   "cell_type": "markdown",
   "metadata": {},
   "source": [
    "And\n",
    "$$\n",
    "    \\left[ {\\begin{array}{c}\n",
    "    1 \\\\\n",
    "    2 \\\\\n",
    "    2 \\\\\n",
    "  \\end{array} } \\right] =\n",
    "    \\left[ {\\begin{array}{cc}\n",
    "   1 & 1 \\\\\n",
    "   1 & 2 \\\\\n",
    "   1 & 3 \\\\\n",
    "  \\end{array} } \\right]\n",
    "   \\left[ {\\begin{array}{c}\n",
    "   c \\\\\n",
    "   m \\\\\n",
    "  \\end{array} } \\right]\n",
    "$$\n",
    "\n",
    "Let us solve for $c$ and $m$."
   ]
  },
  {
   "cell_type": "markdown",
   "metadata": {},
   "source": [
    "We first multiply both sides by $X^T$ to get a square invertible matrix on the RHS.\n",
    "\n",
    "$$ \n",
    "X^T = \\left[ {\\begin{array}{c}\n",
    "    1 & 1 & 1 \\\\\n",
    "    1 & 2 & 3 \\\\\n",
    "    \\end{array} } \\right]\n",
    "$$"
   ]
  },
  {
   "cell_type": "markdown",
   "metadata": {},
   "source": [
    "So we have\n",
    "$$\n",
    "\\left[ {\\begin{array}{c}\n",
    "    1 & 1 & 1 \\\\\n",
    "    1 & 2 & 3 \\\\\n",
    "    \\end{array} } \\right]\n",
    "\\left[ {\\begin{array}{c}\n",
    "    1 \\\\\n",
    "    2 \\\\\n",
    "    2 \\\\\n",
    "  \\end{array} } \\right] =\n",
    "\\left[ {\\begin{array}{c}\n",
    "    1 & 1 & 1 \\\\\n",
    "    1 & 2 & 3 \\\\\n",
    "    \\end{array} } \\right]  \n",
    "    \\left[ {\\begin{array}{cc}\n",
    "   1 & 1 \\\\\n",
    "   1 & 2 \\\\\n",
    "   1 & 3 \\\\\n",
    "  \\end{array} } \\right]\n",
    "   \\left[ {\\begin{array}{c}\n",
    "   c \\\\\n",
    "   m \\\\\n",
    "  \\end{array} } \\right]    \n",
    "$$"
   ]
  },
  {
   "cell_type": "markdown",
   "metadata": {},
   "source": [
    "$$\n",
    "\\left[ {\\begin{array}{c}\n",
    "    5 \\\\\n",
    "    11  \\\\\n",
    "    \\end{array} } \\right]\n",
    " =\n",
    "\\left[ {\\begin{array}{c}\n",
    "    3 & 6  \\\\\n",
    "    6 & 14  \\\\\n",
    "    \\end{array} } \\right]  \n",
    "   \\left[ {\\begin{array}{c}\n",
    "   c \\\\\n",
    "   m \\\\\n",
    "  \\end{array} } \\right]    \n",
    "$$"
   ]
  },
  {
   "cell_type": "markdown",
   "metadata": {},
   "source": [
    "We can now calculate the inverse as we have a square invertible matrix $X^TX$."
   ]
  },
  {
   "cell_type": "markdown",
   "metadata": {},
   "source": [
    "$$ (X^TX)^{-1} = \n",
    "\\left[ {\\begin{array}{c}\n",
    "    3 & 6  \\\\\n",
    "    6 & 14  \\\\\n",
    "    \\end{array} } \\right]^{-1} =\n",
    "    \\frac{1}{6}\n",
    "\\left[ {\\begin{array}{c}\n",
    "    14 & -6  \\\\\n",
    "    -6 & 3  \\\\\n",
    "    \\end{array} } \\right]   \n",
    "$$"
   ]
  },
  {
   "cell_type": "markdown",
   "metadata": {},
   "source": [
    "We multiply both sides by $(X^TX)^{-1}$"
   ]
  },
  {
   "cell_type": "markdown",
   "metadata": {},
   "source": [
    "$$\n",
    "\\frac{1}{6}\n",
    "\\left[ {\\begin{array}{c}\n",
    "    14 & -6  \\\\\n",
    "    -6 & 3  \\\\\n",
    "\\end{array} } \\right]\n",
    "\\left[ {\\begin{array}{c}\n",
    "    5 \\\\\n",
    "    11  \\\\\n",
    "    \\end{array} } \\right]=\n",
    "\\frac{1}{6}\n",
    "\\left[ {\\begin{array}{c}\n",
    "    14 & -6  \\\\\n",
    "    -6 & 3  \\\\\n",
    "\\end{array} } \\right]\n",
    "\\left[ {\\begin{array}{c}\n",
    "    3 & 6  \\\\\n",
    "    6 & 14  \\\\\n",
    "    \\end{array} } \\right]  \n",
    "   \\left[ {\\begin{array}{c}\n",
    "   c \\\\\n",
    "   m \\\\\n",
    "  \\end{array} } \\right]    \n",
    "$$\n"
   ]
  },
  {
   "cell_type": "markdown",
   "metadata": {},
   "source": [
    "And as $(X^TX)^{-1}(X^TX) = Id$, we can simplify the RHS giving"
   ]
  },
  {
   "cell_type": "markdown",
   "metadata": {},
   "source": [
    "$$\n",
    "\\frac{1}{6}\n",
    "\\left[ {\\begin{array}{c}\n",
    "    14 & -6  \\\\\n",
    "    -6 & 3  \\\\\n",
    "\\end{array} } \\right]\n",
    "\\left[ {\\begin{array}{c}\n",
    "    5 \\\\\n",
    "    11  \\\\\n",
    "    \\end{array} } \\right]=\n",
    "   \\left[ {\\begin{array}{c}\n",
    "   c \\\\\n",
    "   m \\\\\n",
    "  \\end{array} } \\right]      \n",
    "$$"
   ]
  },
  {
   "cell_type": "markdown",
   "metadata": {},
   "source": [
    "Finally we can solve for $c$ and $m$,"
   ]
  },
  {
   "cell_type": "markdown",
   "metadata": {},
   "source": [
    "$$\n",
    "\\left[ {\\begin{array}{c}\n",
    "    \\frac{2}{3} \\\\\n",
    "    \\frac{1}{2}  \\\\\n",
    "    \\end{array} } \\right]=\n",
    "   \\left[ {\\begin{array}{c}\n",
    "   c \\\\\n",
    "   m \\\\\n",
    "  \\end{array} } \\right] \n",
    "$$"
   ]
  },
  {
   "cell_type": "markdown",
   "metadata": {},
   "source": [
    "So the line that best fits our data is \n",
    "$$ y = \\frac{1}{2}x + \\frac{2}{3} $$"
   ]
  },
  {
   "cell_type": "markdown",
   "metadata": {},
   "source": [
    "### Theory"
   ]
  },
  {
   "cell_type": "markdown",
   "metadata": {},
   "source": [
    "We can express our problem as a linear system as follows:\n",
    "\n",
    "\n",
    "$$\n",
    "    \\left[ {\\begin{array}{cc}\n",
    "   1 & 1 \\\\\n",
    "   1 & 2 \\\\\n",
    "   1 & 3 \\\\\n",
    "  \\end{array} } \\right]\n",
    "   \\left[ {\\begin{array}{c}\n",
    "   c \\\\\n",
    "   m \\\\\n",
    "  \\end{array} } \\right] =\n",
    "    \\left[ {\\begin{array}{c}\n",
    "    1 \\\\\n",
    "    2 \\\\\n",
    "    2 \\\\\n",
    "  \\end{array} } \\right] \n",
    "$$"
   ]
  },
  {
   "cell_type": "markdown",
   "metadata": {},
   "source": [
    "The column of ones in the first matrix refers to the intercept ($c$) from $mx+c$. If you don't include this constant, then the function is constrained to the origin (0,0), which would strongly limit the types of relationships the model could describe.\n",
    "\n",
    "In above , we are hoping that there is some linear combination of the columns of the first matrix that gives us our vector of observed values (the vector with values 1,2,2).\n",
    "\n",
    "Unfortunately, we already know that this vector does not fit our model perfectly Every line we draw will have some value of error $e$ associated with it. \n",
    "\n",
    "**The goal is to make $e$ as small as possible**.\n",
    "\n",
    "A common measure to find and minimize the value of this error is called *Ordinary Least Squares*. \n",
    "\n",
    "This says that our dependent variable, is composed of a linear part and error.\n",
    "In matrix terms, we can write:\n",
    "\n",
    "$ y = \\boldsymbol{X} b + e $\n",
    "\n",
    "This says to get y (sales), multiply each $\\boldsymbol{X}$ by the appropriate vector b (unknown parameters, the vector version of $m$ and $c$), then add an error term. We create a matrix $\\boldsymbol{X}$ , which has an extra column of ones in it for the intercept."
   ]
  },
  {
   "cell_type": "markdown",
   "metadata": {},
   "source": [
    "### Derivation of the formula for b"
   ]
  },
  {
   "cell_type": "markdown",
   "metadata": {},
   "source": [
    "We are looking to solve \n",
    "\n",
    "$ y = \\boldsymbol{X} b$\n",
    "\n",
    "First we will make X into a nice square, symmetric matrix by multiplying both sides of the equation by $\\boldsymbol{X}^T$ :\n",
    "\n",
    "$\\boldsymbol{X}^T y = \\boldsymbol{X}^T \\boldsymbol{X}b $\n",
    "\n",
    "And now we have a square matrix that with any luck has an inverse, which we will call $(\\boldsymbol{X}^T\\boldsymbol{X})^{-1}$. Multiply both sides by this inverse, and we have\n",
    "\n",
    "$(\\boldsymbol{X}^T\\boldsymbol{X})^{-1}\\boldsymbol{X}^T y =(\\boldsymbol{X}^T\\boldsymbol{X})^{-1} \\boldsymbol{X}^T \\boldsymbol{X}b $\n",
    "\n",
    "\n",
    "It turns out that a matrix multiplied by its inverse is the identity matrix $(\\boldsymbol{X}^{-1}\\boldsymbol{X})= I$:\n",
    "\n",
    "$(\\boldsymbol{X}^T\\boldsymbol{X})^{-1}\\boldsymbol{X}^T y =I b $\n",
    "\n",
    "\n",
    "And you know that $Ib= b$ So if you want to solve for $b$ (that is, remember, equivalent to finding the values $m$ and $c$ in this case), you find that:\n",
    "\n",
    "$ b= (\\boldsymbol{X}^T\\boldsymbol{X})^{-1}\\boldsymbol{X}^T y $"
   ]
  },
  {
   "cell_type": "markdown",
   "metadata": {},
   "source": [
    ">Using linear regression is just trying to solve  $ y = \\boldsymbol{X} b$. But if any of the observed points deviate from the model, you can't find a direct solution. To find a solution, you can multiply both sides by the transpose of  𝑋 . The transpose of  𝑋  times  𝑋  will always allow us to solve for unknown variables."
   ]
  },
  {
   "cell_type": "markdown",
   "metadata": {},
   "source": [
    "### Check using Numpy"
   ]
  },
  {
   "cell_type": "code",
   "execution_count": 3,
   "metadata": {},
   "outputs": [
    {
     "data": {
      "text/plain": [
       "array([0.66666667, 0.5       ])"
      ]
     },
     "execution_count": 3,
     "metadata": {},
     "output_type": "execute_result"
    }
   ],
   "source": [
    "import numpy as np\n",
    "\n",
    "X = np.array([[1, 1],[1, 2],[1, 3]])\n",
    "y = np.array([1, 2, 2])\n",
    "\n",
    "# Take Transpose\n",
    "Xt = X.T\n",
    "# Take dot product of X Transpose with X\n",
    "XtX = Xt.dot(X)\n",
    "# Take inverse\n",
    "XtX_inv = np.linalg.inv(XtX)\n",
    "\n",
    "# Take dot product of X Transpose with y\n",
    "Xty = Xt.dot(y)\n",
    "\n",
    "# Take dot product of both terms\n",
    "b = XtX_inv.dot(Xty) \n",
    "\n",
    "b"
   ]
  },
  {
   "cell_type": "markdown",
   "metadata": {},
   "source": [
    "This tells us that the optimal values are $c = 0.666$ and $m = 0.5$."
   ]
  },
  {
   "cell_type": "code",
   "execution_count": 4,
   "metadata": {},
   "outputs": [
    {
     "data": {
      "image/png": "[encoded data removed]",
      "text/plain": [
       "<Figure size 432x288 with 1 Axes>"
      ]
     },
     "metadata": {
      "needs_background": "light"
     },
     "output_type": "display_data"
    }
   ],
   "source": [
    "plt.plot(X, b[0] + (b[1] * X), '-')\n",
    "plt.scatter(df['day'], df['sales'])\n",
    "plt.xticks(df['day'])\n",
    "plt.yticks(df['sales'])\n",
    "plt.xlabel('Day')\n",
    "plt.ylabel('Sales')\n",
    "plt.title('Scatter Plot of Day vs Sales')\n",
    "plt.show()"
   ]
  },
  {
   "cell_type": "markdown",
   "metadata": {},
   "source": [
    "### Check using Sklearn"
   ]
  },
  {
   "cell_type": "markdown",
   "metadata": {},
   "source": [
    "This is obviously overkill, but let's see that it returns the same values."
   ]
  },
  {
   "cell_type": "code",
   "execution_count": 9,
   "metadata": {},
   "outputs": [],
   "source": [
    "from sklearn.linear_model import LinearRegression\n",
    "\n",
    "# instatiate class\n",
    "linreg = LinearRegression()\n",
    "\n",
    "# Define X and y\n",
    "X = np.array(df['day']).reshape(-1,1)\n",
    "y = df['sales']\n",
    "\n",
    "# fit model \n",
    "model = linreg.fit(X,y)"
   ]
  },
  {
   "cell_type": "code",
   "execution_count": 12,
   "metadata": {},
   "outputs": [
    {
     "data": {
      "text/plain": [
       "array([0.5])"
      ]
     },
     "execution_count": 12,
     "metadata": {},
     "output_type": "execute_result"
    }
   ],
   "source": [
    "model.coef_"
   ]
  },
  {
   "cell_type": "code",
   "execution_count": 13,
   "metadata": {
    "scrolled": true
   },
   "outputs": [
    {
     "data": {
      "text/plain": [
       "0.6666666666666672"
      ]
     },
     "execution_count": 13,
     "metadata": {},
     "output_type": "execute_result"
    }
   ],
   "source": [
    "model.intercept_"
   ]
  },
  {
   "cell_type": "markdown",
   "metadata": {},
   "source": [
    "## Gradient Descent"
   ]
  },
  {
   "cell_type": "markdown",
   "metadata": {},
   "source": [
    "Gradient Descent finds the optimal values of $m$ and $c$ to fit a line to the data."
   ]
  },
  {
   "cell_type": "markdown",
   "metadata": {},
   "source": [
    "### Gradient Descent to find intercept"
   ]
  },
  {
   "cell_type": "markdown",
   "metadata": {},
   "source": [
    "We will first show how gradient descent can be used to find the optimal intercept $c$. So we will use the value for $m$ that we found above.\n",
    "\n",
    "$$\n",
    "sales = c + 0.5*days\n",
    "$$"
   ]
  },
  {
   "cell_type": "markdown",
   "metadata": {},
   "source": [
    "To begin, choose a random value for $c$, which gives gradient descent something to improve upon. Here we will start with $c = 0$."
   ]
  },
  {
   "cell_type": "code",
   "execution_count": 16,
   "metadata": {},
   "outputs": [
    {
     "data": {
      "image/png": "[encoded data removed]",
      "text/plain": [
       "<Figure size 432x288 with 1 Axes>"
      ]
     },
     "metadata": {
      "needs_background": "light"
     },
     "output_type": "display_data"
    }
   ],
   "source": [
    "# Initial line\n",
    "plt.plot(X, 0.5*X, '-', color = 'red')\n",
    "\n",
    "# Data points\n",
    "plt.scatter(df['day'], df['sales'])\n",
    "\n",
    "plt.xticks(df['day'])\n",
    "plt.yticks(df['sales'])\n",
    "plt.xlabel('Day')\n",
    "plt.ylabel('Sales')\n",
    "plt.title('Scatter Plot of Day vs Sales')\n",
    "plt.show()"
   ]
  },
  {
   "cell_type": "markdown",
   "metadata": {},
   "source": [
    "We will evaluate how well this line fits the data using the Residual Sum of Squares\n",
    "\n",
    "$$ RSS = \\sum_{i =1}^{n} (y_i - \\hat{y})^2 $$"
   ]
  },
  {
   "cell_type": "markdown",
   "metadata": {},
   "source": [
    "Here as we have three data points, we can explicitly write\n",
    "\n",
    "$$ RSS = (y_1 - (m*x_1 + c))^2 + (y_2 - (m*x_2 + c))^2 + (y_3 - (m*x_3 + c))^2$$"
   ]
  },
  {
   "cell_type": "markdown",
   "metadata": {},
   "source": [
    "Substituting $m=0.5$ and $c=0$, we get\n",
    "$$ RSS = (y_1 - 0.5*x_1)^2 + (y_2 - 0.5*x_2)^2 + (y_3 - 0.5*x_3)^2$$ "
   ]
  },
  {
   "cell_type": "markdown",
   "metadata": {},
   "source": [
    "And substituting our values for $x_i$ and $y_i$ gives us\n",
    "$$ RSS = (1 - 0.5*1)^2 + (2 - 0.5*2)^2 + (2 - 0.5*3)^2 = 1.5 $$"
   ]
  },
  {
   "cell_type": "markdown",
   "metadata": {},
   "source": [
    "This gives us one value for RSS when $c = 0$. By changing the value of $c$ we can obtain a curve."
   ]
  },
  {
   "cell_type": "code",
   "execution_count": 21,
   "metadata": {},
   "outputs": [],
   "source": [
    "# def function for RSS dependent on c\n",
    "def RSS_c(c):\n",
    "    return (1 - (0.5*1 + c))**2 + (2 - (0.5*2 + c))**2 + (2 - (0.5*3 + c))**2 "
   ]
  },
  {
   "cell_type": "code",
   "execution_count": 22,
   "metadata": {},
   "outputs": [
    {
     "data": {
      "text/plain": [
       "0.25"
      ]
     },
     "execution_count": 22,
     "metadata": {},
     "output_type": "execute_result"
    }
   ],
   "source": [
    "RSS_c(0.5)"
   ]
  },
  {
   "cell_type": "markdown",
   "metadata": {},
   "source": [
    "So when $c = 0.5$, we see that $RSS = 0.25$ which is an improvement.\n",
    "\n",
    "Let us plot $RSS$ for different values of $c$."
   ]
  },
  {
   "cell_type": "code",
   "execution_count": 30,
   "metadata": {},
   "outputs": [
    {
     "data": {
      "image/png": "[encoded data removed]",
      "text/plain": [
       "<Figure size 432x288 with 1 Axes>"
      ]
     },
     "metadata": {
      "needs_background": "light"
     },
     "output_type": "display_data"
    }
   ],
   "source": [
    "c_vals = np.linspace(0,1,20)\n",
    "plt.plot(c_vals, RSS_c(c_vals))\n",
    "plt.title('RSS for different intercept values')\n",
    "plt.xlabel('Value of c')\n",
    "plt.ylabel('RSS')\n",
    "plt.show()"
   ]
  },
  {
   "cell_type": "markdown",
   "metadata": {},
   "source": [
    "Gradient descent will help find optimal value for $c$ by decending along the cost curve and finding the value where RSS is lowest. It will perform fewer calculations when far from optimal value and more when close.\n",
    "\n",
    "This is the function we have for RSS\n",
    "\n",
    "$$\n",
    "RSS(c) = (1 - (0.5*1 + c))^2 + (2 - (0.5*2 + c))^2 + (2 - (0.5*3 + c))^2 \n",
    "$$\n",
    "\n",
    "We can take the derrivative of this function to find the slope of the tangent line at any point on the curve. Let's calculate this using the Chain Rule.\n",
    "\n",
    "$$\n",
    "\\frac{d}{d c} RSS = - 2(1 - (0.5*1 + c)) - 2(2 - (0.5*2 + c)) - 2(2 - (0.5*3 + c))\n",
    "$$\n",
    "\n",
    "Now that we have the derrivative, gradient descent will use it to find where RSS is lowest."
   ]
  },
  {
   "cell_type": "markdown",
   "metadata": {},
   "source": [
    "**Note** if we were using Least Squares, we would set the derrivative to 0 to find the best solution.\n",
    "\n",
    "As a check if we were to solve \n",
    "$$ - 2(1 - (0.5*1 + c)) - 2(2 - (0.5*2 + c)) - 2(2 - (0.5*3 + c)) = 0$$\n",
    "\n",
    "We would get\n",
    "$$ - 2 + 1 + 2c - 4 + 2 + 2c - 4 + 3 + 2 c = 0 $$\n",
    "$$ c = 2/3 $$"
   ]
  },
  {
   "cell_type": "markdown",
   "metadata": {},
   "source": [
    "In contrast, gradient descent works by taking steps until the optimal value is found.\n",
    "\n",
    "As such gradient descent is very useful when one cannot solve derivative = 0."
   ]
  },
  {
   "cell_type": "markdown",
   "metadata": {},
   "source": [
    "Coming back to the derrivative, we can see that for $c = 0$, \n",
    "$$\n",
    "\\frac{d}{d c} RSS = - 2(1 - (0.5*1 + c)) - 2(2 - (0.5*2 + c)) - 2(2 - (0.5*3 + c))\n",
    "$$\n",
    "$$\n",
    "\\frac{d}{d c} RSS = - 2(1 - 0.5*1) - 2(2 - 0.5*2) - 2(2 - 0.5*3)\n",
    "$$\n",
    "$$\n",
    "\\frac{d}{d c} RSS = -4\n",
    "$$\n",
    "So when $c = 0$ the slope of the curve is -4.\n",
    "The closer we get to the optimal value, the closer the slope will get to 0.\n",
    "\n",
    "To take steps towards the optimal value, we define the step size.\n",
    "$$\n",
    "\\textbf{Step size} = \\text{slope * learning rate}\n",
    "$$\n",
    "The learning rate is a small number, let us set it at 0.1\n",
    "\n",
    "So when $c = 0$, we have **step size** = -4 * 0.1 = -0.4\n",
    "\n",
    "The step size allows us to determine the next intercept value \n",
    "$$\n",
    "\\textbf{new_c} = \\text{c - step size}\n",
    "$$\n",
    "\n",
    "So for us, new_c = 0 + 0.4 = 0.4\n",
    "\n",
    "Using our derrivative formula for $c = 0.4$, we get a slope of\n",
    "$$\n",
    "\\frac{d}{d c} RSS = - 2(1 - (0.5*1 + 0.4)) - 2(2 - (0.5*2 + 0.4)) - 2(2 - (0.5*3 + 0.4))\n",
    "$$\n",
    "$$\n",
    "\\frac{d}{d c} RSS = -1.6\n",
    "$$\n",
    "\n",
    "Again we can calculate step size and the new intercept value. \n",
    "\n",
    "When $c = 0.4$, we have **step size** = -1.6 * 0.1 = -0.16 and new_c = 0.4 + 0.16 = 0.56"
   ]
  },
  {
   "cell_type": "markdown",
   "metadata": {},
   "source": [
    "We can compare RSS for when $c=0$ starting point and $c = 0.56$ where we are now."
   ]
  },
  {
   "cell_type": "code",
   "execution_count": 47,
   "metadata": {
    "scrolled": true
   },
   "outputs": [
    {
     "data": {
      "text/plain": [
       "1.5"
      ]
     },
     "execution_count": 47,
     "metadata": {},
     "output_type": "execute_result"
    }
   ],
   "source": [
    "RSS_c(0)"
   ]
  },
  {
   "cell_type": "code",
   "execution_count": 48,
   "metadata": {
    "scrolled": false
   },
   "outputs": [
    {
     "data": {
      "text/plain": [
       "0.2008"
      ]
     },
     "execution_count": 48,
     "metadata": {},
     "output_type": "execute_result"
    }
   ],
   "source": [
    "RSS_c(0.56)"
   ]
  },
  {
   "cell_type": "markdown",
   "metadata": {},
   "source": [
    "RSS is getting smaller. Let us keep going.\n",
    "\n",
    "Using our derrivative formula for $c = 0.56$, we get a slope of\n",
    "$$\n",
    "\\frac{d}{d c} RSS = - 2(1 - (0.5*1 + 0.56)) - 2(2 - (0.5*2 + 0.56)) - 2(2 - (0.5*3 + 0.56))\n",
    "$$\n",
    "$$\n",
    "\\frac{d}{d c} RSS = -0.64\n",
    "$$\n",
    "\n",
    "When $c = 0.56$, we have **step size** = -0.64 * 0.1 = -0.064 and new_c = 0.56 + 0.064 = 0.624\n",
    "\n",
    "And again.\n",
    "\n",
    "Using our derrivative formula for $c = 0.624$, we get a slope of\n",
    "$$\n",
    "\\frac{d}{d c} RSS = - 2(1 - (0.5*1 + 0.624)) - 2(2 - (0.5*2 + 0.624)) - 2(2 - (0.5*3 + 0.624))\n",
    "$$\n",
    "$$\n",
    "\\frac{d}{d c} RSS = -0.256\n",
    "$$\n",
    "\n",
    "When $c = 0.624$, we have **step size** = -0.256 * 0.1 = -0.0256 and new_c = 0.624 + -0.0256 = 0.6496\n",
    "\n",
    "And one last time.\n",
    "\n",
    "Using our derrivative formula for $c = 0.6496$, we get a slope of\n",
    "$$\n",
    "\\frac{d}{d c} RSS = - 2(1 - (0.5*1 + 0.6496)) - 2(2 - (0.5*2 + 0.6496)) - 2(2 - (0.5*3 + 0.6496))\n",
    "$$\n",
    "$$\n",
    "\\frac{d}{d c} RSS = -0.1024\n",
    "$$\n",
    "\n",
    "When $c = 0.6496$, we have **step size** = -0.1024 * 0.1 = -0.01024 and new_c = 0.624 + -0.0256 = 0.65984\n",
    "\n",
    "Using gradient descent has given us a value of $c$ equal to $0.66$ same as with least squares."
   ]
  },
  {
   "cell_type": "markdown",
   "metadata": {},
   "source": [
    "**Note**: Gradient descent stops when the step size is very close to 0. We can set a threshold to stop at, usually around 0.001. Gradient descent also has a fixed number of steps before stopping, usually set at 1,000 steps."
   ]
  },
  {
   "cell_type": "markdown",
   "metadata": {},
   "source": [
    "## Two Predictors"
   ]
  },
  {
   "cell_type": "markdown",
   "metadata": {},
   "source": [
    "### Ridge Regression"
   ]
  },
  {
   "cell_type": "markdown",
   "metadata": {},
   "source": [
    "$$ \\sum_{i=1}^n(y_i - (m_1x_{i1} + m_2x_{i2} + b))^2 + \\lambda m_1^2 + \\lambda m_2^2$$"
   ]
  }
 ],
 "metadata": {
  "kernelspec": {
   "display_name": "Python [conda env:learn-env] *",
   "language": "python",
   "name": "conda-env-learn-env-py"
  },
  "language_info": {
   "codemirror_mode": {
    "name": "ipython",
    "version": 3
   },
   "file_extension": ".py",
   "mimetype": "text/x-python",
   "name": "python",
   "nbconvert_exporter": "python",
   "pygments_lexer": "ipython3",
   "version": "3.6.9"
  },
  "toc": {
   "base_numbering": 1,
   "nav_menu": {},
   "number_sections": true,
   "sideBar": true,
   "skip_h1_title": true,
   "title_cell": "Table of Contents",
   "title_sidebar": "Contents",
   "toc_cell": false,
   "toc_position": {
    "height": "calc(100% - 180px)",
    "left": "10px",
    "top": "150px",
    "width": "275.594px"
   },
   "toc_section_display": true,
   "toc_window_display": true
  }
 },
 "nbformat": 4,
 "nbformat_minor": 2
}
